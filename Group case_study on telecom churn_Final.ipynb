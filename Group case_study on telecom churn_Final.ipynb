{
 "cells": [
  {
   "cell_type": "code",
   "execution_count": 94,
   "metadata": {},
   "outputs": [],
   "source": [
    "#import all the necessary libraries\n",
    "#import basic python libraries\n",
    "import pandas as pd\n",
    "import numpy as np\n",
    "import matplotlib.pyplot as plt\n",
    "import seaborn as sns\n",
    "%matplotlib inline\n",
    "\n",
    "#import library to supress warnings\n",
    "import warnings\n",
    "warnings.filterwarnings(\"ignore\")\n",
    "\n",
    "#import libraries for data prepration\n",
    "from sklearn.preprocessing import scale\n",
    "from sklearn.model_selection import train_test_split\n",
    "from sklearn.cluster import KMeans"
   ]
  },
  {
   "cell_type": "code",
   "execution_count": 95,
   "metadata": {},
   "outputs": [],
   "source": [
    "# read the data into a dataframe\n",
    "churn_df= pd.read_csv(\"telecom_churn_data.csv\", encoding = \"ISO-8859-1\", low_memory=False )"
   ]
  },
  {
   "cell_type": "code",
   "execution_count": 96,
   "metadata": {},
   "outputs": [
    {
     "data": {
      "text/plain": [
       "(99999, 226)"
      ]
     },
     "execution_count": 96,
     "metadata": {},
     "output_type": "execute_result"
    }
   ],
   "source": [
    "#check the shape of the dataframe created\n",
    "churn_df.shape"
   ]
  },
  {
   "cell_type": "code",
   "execution_count": 97,
   "metadata": {},
   "outputs": [
    {
     "data": {
      "text/html": [
       "<div>\n",
       "<style scoped>\n",
       "    .dataframe tbody tr th:only-of-type {\n",
       "        vertical-align: middle;\n",
       "    }\n",
       "\n",
       "    .dataframe tbody tr th {\n",
       "        vertical-align: top;\n",
       "    }\n",
       "\n",
       "    .dataframe thead th {\n",
       "        text-align: right;\n",
       "    }\n",
       "</style>\n",
       "<table border=\"1\" class=\"dataframe\">\n",
       "  <thead>\n",
       "    <tr style=\"text-align: right;\">\n",
       "      <th></th>\n",
       "      <th>mobile_number</th>\n",
       "      <th>circle_id</th>\n",
       "      <th>loc_og_t2o_mou</th>\n",
       "      <th>std_og_t2o_mou</th>\n",
       "      <th>loc_ic_t2o_mou</th>\n",
       "      <th>arpu_6</th>\n",
       "      <th>arpu_7</th>\n",
       "      <th>arpu_8</th>\n",
       "      <th>arpu_9</th>\n",
       "      <th>onnet_mou_6</th>\n",
       "      <th>...</th>\n",
       "      <th>sachet_3g_9</th>\n",
       "      <th>fb_user_6</th>\n",
       "      <th>fb_user_7</th>\n",
       "      <th>fb_user_8</th>\n",
       "      <th>fb_user_9</th>\n",
       "      <th>aon</th>\n",
       "      <th>aug_vbc_3g</th>\n",
       "      <th>jul_vbc_3g</th>\n",
       "      <th>jun_vbc_3g</th>\n",
       "      <th>sep_vbc_3g</th>\n",
       "    </tr>\n",
       "  </thead>\n",
       "  <tbody>\n",
       "    <tr>\n",
       "      <th>count</th>\n",
       "      <td>9.999900e+04</td>\n",
       "      <td>99999.0</td>\n",
       "      <td>98981.0</td>\n",
       "      <td>98981.0</td>\n",
       "      <td>98981.0</td>\n",
       "      <td>99999.000000</td>\n",
       "      <td>99999.000000</td>\n",
       "      <td>99999.000000</td>\n",
       "      <td>99999.000000</td>\n",
       "      <td>96062.000000</td>\n",
       "      <td>...</td>\n",
       "      <td>99999.000000</td>\n",
       "      <td>25153.000000</td>\n",
       "      <td>25571.000000</td>\n",
       "      <td>26339.000000</td>\n",
       "      <td>25922.000000</td>\n",
       "      <td>99999.000000</td>\n",
       "      <td>99999.000000</td>\n",
       "      <td>99999.000000</td>\n",
       "      <td>99999.000000</td>\n",
       "      <td>99999.000000</td>\n",
       "    </tr>\n",
       "    <tr>\n",
       "      <th>mean</th>\n",
       "      <td>7.001207e+09</td>\n",
       "      <td>109.0</td>\n",
       "      <td>0.0</td>\n",
       "      <td>0.0</td>\n",
       "      <td>0.0</td>\n",
       "      <td>282.987358</td>\n",
       "      <td>278.536648</td>\n",
       "      <td>279.154731</td>\n",
       "      <td>261.645069</td>\n",
       "      <td>132.395875</td>\n",
       "      <td>...</td>\n",
       "      <td>0.084581</td>\n",
       "      <td>0.914404</td>\n",
       "      <td>0.908764</td>\n",
       "      <td>0.890808</td>\n",
       "      <td>0.860968</td>\n",
       "      <td>1219.854749</td>\n",
       "      <td>68.170248</td>\n",
       "      <td>66.839062</td>\n",
       "      <td>60.021204</td>\n",
       "      <td>3.299373</td>\n",
       "    </tr>\n",
       "    <tr>\n",
       "      <th>std</th>\n",
       "      <td>6.956694e+05</td>\n",
       "      <td>0.0</td>\n",
       "      <td>0.0</td>\n",
       "      <td>0.0</td>\n",
       "      <td>0.0</td>\n",
       "      <td>328.439770</td>\n",
       "      <td>338.156291</td>\n",
       "      <td>344.474791</td>\n",
       "      <td>341.998630</td>\n",
       "      <td>297.207406</td>\n",
       "      <td>...</td>\n",
       "      <td>0.650457</td>\n",
       "      <td>0.279772</td>\n",
       "      <td>0.287950</td>\n",
       "      <td>0.311885</td>\n",
       "      <td>0.345987</td>\n",
       "      <td>954.733842</td>\n",
       "      <td>267.580450</td>\n",
       "      <td>271.201856</td>\n",
       "      <td>253.938223</td>\n",
       "      <td>32.408353</td>\n",
       "    </tr>\n",
       "    <tr>\n",
       "      <th>min</th>\n",
       "      <td>7.000000e+09</td>\n",
       "      <td>109.0</td>\n",
       "      <td>0.0</td>\n",
       "      <td>0.0</td>\n",
       "      <td>0.0</td>\n",
       "      <td>-2258.709000</td>\n",
       "      <td>-2014.045000</td>\n",
       "      <td>-945.808000</td>\n",
       "      <td>-1899.505000</td>\n",
       "      <td>0.000000</td>\n",
       "      <td>...</td>\n",
       "      <td>0.000000</td>\n",
       "      <td>0.000000</td>\n",
       "      <td>0.000000</td>\n",
       "      <td>0.000000</td>\n",
       "      <td>0.000000</td>\n",
       "      <td>180.000000</td>\n",
       "      <td>0.000000</td>\n",
       "      <td>0.000000</td>\n",
       "      <td>0.000000</td>\n",
       "      <td>0.000000</td>\n",
       "    </tr>\n",
       "    <tr>\n",
       "      <th>25%</th>\n",
       "      <td>7.000606e+09</td>\n",
       "      <td>109.0</td>\n",
       "      <td>0.0</td>\n",
       "      <td>0.0</td>\n",
       "      <td>0.0</td>\n",
       "      <td>93.411500</td>\n",
       "      <td>86.980500</td>\n",
       "      <td>84.126000</td>\n",
       "      <td>62.685000</td>\n",
       "      <td>7.380000</td>\n",
       "      <td>...</td>\n",
       "      <td>0.000000</td>\n",
       "      <td>1.000000</td>\n",
       "      <td>1.000000</td>\n",
       "      <td>1.000000</td>\n",
       "      <td>1.000000</td>\n",
       "      <td>467.000000</td>\n",
       "      <td>0.000000</td>\n",
       "      <td>0.000000</td>\n",
       "      <td>0.000000</td>\n",
       "      <td>0.000000</td>\n",
       "    </tr>\n",
       "    <tr>\n",
       "      <th>50%</th>\n",
       "      <td>7.001205e+09</td>\n",
       "      <td>109.0</td>\n",
       "      <td>0.0</td>\n",
       "      <td>0.0</td>\n",
       "      <td>0.0</td>\n",
       "      <td>197.704000</td>\n",
       "      <td>191.640000</td>\n",
       "      <td>192.080000</td>\n",
       "      <td>176.849000</td>\n",
       "      <td>34.310000</td>\n",
       "      <td>...</td>\n",
       "      <td>0.000000</td>\n",
       "      <td>1.000000</td>\n",
       "      <td>1.000000</td>\n",
       "      <td>1.000000</td>\n",
       "      <td>1.000000</td>\n",
       "      <td>863.000000</td>\n",
       "      <td>0.000000</td>\n",
       "      <td>0.000000</td>\n",
       "      <td>0.000000</td>\n",
       "      <td>0.000000</td>\n",
       "    </tr>\n",
       "    <tr>\n",
       "      <th>75%</th>\n",
       "      <td>7.001812e+09</td>\n",
       "      <td>109.0</td>\n",
       "      <td>0.0</td>\n",
       "      <td>0.0</td>\n",
       "      <td>0.0</td>\n",
       "      <td>371.060000</td>\n",
       "      <td>365.344500</td>\n",
       "      <td>369.370500</td>\n",
       "      <td>353.466500</td>\n",
       "      <td>118.740000</td>\n",
       "      <td>...</td>\n",
       "      <td>0.000000</td>\n",
       "      <td>1.000000</td>\n",
       "      <td>1.000000</td>\n",
       "      <td>1.000000</td>\n",
       "      <td>1.000000</td>\n",
       "      <td>1807.500000</td>\n",
       "      <td>0.000000</td>\n",
       "      <td>0.000000</td>\n",
       "      <td>0.000000</td>\n",
       "      <td>0.000000</td>\n",
       "    </tr>\n",
       "    <tr>\n",
       "      <th>max</th>\n",
       "      <td>7.002411e+09</td>\n",
       "      <td>109.0</td>\n",
       "      <td>0.0</td>\n",
       "      <td>0.0</td>\n",
       "      <td>0.0</td>\n",
       "      <td>27731.088000</td>\n",
       "      <td>35145.834000</td>\n",
       "      <td>33543.624000</td>\n",
       "      <td>38805.617000</td>\n",
       "      <td>7376.710000</td>\n",
       "      <td>...</td>\n",
       "      <td>49.000000</td>\n",
       "      <td>1.000000</td>\n",
       "      <td>1.000000</td>\n",
       "      <td>1.000000</td>\n",
       "      <td>1.000000</td>\n",
       "      <td>4337.000000</td>\n",
       "      <td>12916.220000</td>\n",
       "      <td>9165.600000</td>\n",
       "      <td>11166.210000</td>\n",
       "      <td>2618.570000</td>\n",
       "    </tr>\n",
       "  </tbody>\n",
       "</table>\n",
       "<p>8 rows × 214 columns</p>\n",
       "</div>"
      ],
      "text/plain": [
       "       mobile_number  circle_id  loc_og_t2o_mou  std_og_t2o_mou  \\\n",
       "count   9.999900e+04    99999.0         98981.0         98981.0   \n",
       "mean    7.001207e+09      109.0             0.0             0.0   \n",
       "std     6.956694e+05        0.0             0.0             0.0   \n",
       "min     7.000000e+09      109.0             0.0             0.0   \n",
       "25%     7.000606e+09      109.0             0.0             0.0   \n",
       "50%     7.001205e+09      109.0             0.0             0.0   \n",
       "75%     7.001812e+09      109.0             0.0             0.0   \n",
       "max     7.002411e+09      109.0             0.0             0.0   \n",
       "\n",
       "       loc_ic_t2o_mou        arpu_6        arpu_7        arpu_8        arpu_9  \\\n",
       "count         98981.0  99999.000000  99999.000000  99999.000000  99999.000000   \n",
       "mean              0.0    282.987358    278.536648    279.154731    261.645069   \n",
       "std               0.0    328.439770    338.156291    344.474791    341.998630   \n",
       "min               0.0  -2258.709000  -2014.045000   -945.808000  -1899.505000   \n",
       "25%               0.0     93.411500     86.980500     84.126000     62.685000   \n",
       "50%               0.0    197.704000    191.640000    192.080000    176.849000   \n",
       "75%               0.0    371.060000    365.344500    369.370500    353.466500   \n",
       "max               0.0  27731.088000  35145.834000  33543.624000  38805.617000   \n",
       "\n",
       "        onnet_mou_6  ...   sachet_3g_9     fb_user_6     fb_user_7  \\\n",
       "count  96062.000000  ...  99999.000000  25153.000000  25571.000000   \n",
       "mean     132.395875  ...      0.084581      0.914404      0.908764   \n",
       "std      297.207406  ...      0.650457      0.279772      0.287950   \n",
       "min        0.000000  ...      0.000000      0.000000      0.000000   \n",
       "25%        7.380000  ...      0.000000      1.000000      1.000000   \n",
       "50%       34.310000  ...      0.000000      1.000000      1.000000   \n",
       "75%      118.740000  ...      0.000000      1.000000      1.000000   \n",
       "max     7376.710000  ...     49.000000      1.000000      1.000000   \n",
       "\n",
       "          fb_user_8     fb_user_9           aon    aug_vbc_3g    jul_vbc_3g  \\\n",
       "count  26339.000000  25922.000000  99999.000000  99999.000000  99999.000000   \n",
       "mean       0.890808      0.860968   1219.854749     68.170248     66.839062   \n",
       "std        0.311885      0.345987    954.733842    267.580450    271.201856   \n",
       "min        0.000000      0.000000    180.000000      0.000000      0.000000   \n",
       "25%        1.000000      1.000000    467.000000      0.000000      0.000000   \n",
       "50%        1.000000      1.000000    863.000000      0.000000      0.000000   \n",
       "75%        1.000000      1.000000   1807.500000      0.000000      0.000000   \n",
       "max        1.000000      1.000000   4337.000000  12916.220000   9165.600000   \n",
       "\n",
       "         jun_vbc_3g    sep_vbc_3g  \n",
       "count  99999.000000  99999.000000  \n",
       "mean      60.021204      3.299373  \n",
       "std      253.938223     32.408353  \n",
       "min        0.000000      0.000000  \n",
       "25%        0.000000      0.000000  \n",
       "50%        0.000000      0.000000  \n",
       "75%        0.000000      0.000000  \n",
       "max    11166.210000   2618.570000  \n",
       "\n",
       "[8 rows x 214 columns]"
      ]
     },
     "execution_count": 97,
     "metadata": {},
     "output_type": "execute_result"
    }
   ],
   "source": [
    "#let's decribe each column of the dataframe\n",
    "churn_df.describe()"
   ]
  },
  {
   "cell_type": "code",
   "execution_count": 98,
   "metadata": {},
   "outputs": [
    {
     "data": {
      "text/html": [
       "<div>\n",
       "<style scoped>\n",
       "    .dataframe tbody tr th:only-of-type {\n",
       "        vertical-align: middle;\n",
       "    }\n",
       "\n",
       "    .dataframe tbody tr th {\n",
       "        vertical-align: top;\n",
       "    }\n",
       "\n",
       "    .dataframe thead th {\n",
       "        text-align: right;\n",
       "    }\n",
       "</style>\n",
       "<table border=\"1\" class=\"dataframe\">\n",
       "  <thead>\n",
       "    <tr style=\"text-align: right;\">\n",
       "      <th></th>\n",
       "      <th>mobile_number</th>\n",
       "      <th>circle_id</th>\n",
       "      <th>loc_og_t2o_mou</th>\n",
       "      <th>std_og_t2o_mou</th>\n",
       "      <th>loc_ic_t2o_mou</th>\n",
       "      <th>last_date_of_month_6</th>\n",
       "      <th>last_date_of_month_7</th>\n",
       "      <th>last_date_of_month_8</th>\n",
       "      <th>last_date_of_month_9</th>\n",
       "      <th>arpu_6</th>\n",
       "      <th>...</th>\n",
       "      <th>sachet_3g_9</th>\n",
       "      <th>fb_user_6</th>\n",
       "      <th>fb_user_7</th>\n",
       "      <th>fb_user_8</th>\n",
       "      <th>fb_user_9</th>\n",
       "      <th>aon</th>\n",
       "      <th>aug_vbc_3g</th>\n",
       "      <th>jul_vbc_3g</th>\n",
       "      <th>jun_vbc_3g</th>\n",
       "      <th>sep_vbc_3g</th>\n",
       "    </tr>\n",
       "  </thead>\n",
       "  <tbody>\n",
       "    <tr>\n",
       "      <th>0</th>\n",
       "      <td>7000842753</td>\n",
       "      <td>109</td>\n",
       "      <td>0.0</td>\n",
       "      <td>0.0</td>\n",
       "      <td>0.0</td>\n",
       "      <td>6/30/2014</td>\n",
       "      <td>7/31/2014</td>\n",
       "      <td>8/31/2014</td>\n",
       "      <td>9/30/2014</td>\n",
       "      <td>197.385</td>\n",
       "      <td>...</td>\n",
       "      <td>0</td>\n",
       "      <td>1.0</td>\n",
       "      <td>1.0</td>\n",
       "      <td>1.0</td>\n",
       "      <td>NaN</td>\n",
       "      <td>968</td>\n",
       "      <td>30.4</td>\n",
       "      <td>0.0</td>\n",
       "      <td>101.20</td>\n",
       "      <td>3.58</td>\n",
       "    </tr>\n",
       "    <tr>\n",
       "      <th>1</th>\n",
       "      <td>7001865778</td>\n",
       "      <td>109</td>\n",
       "      <td>0.0</td>\n",
       "      <td>0.0</td>\n",
       "      <td>0.0</td>\n",
       "      <td>6/30/2014</td>\n",
       "      <td>7/31/2014</td>\n",
       "      <td>8/31/2014</td>\n",
       "      <td>9/30/2014</td>\n",
       "      <td>34.047</td>\n",
       "      <td>...</td>\n",
       "      <td>0</td>\n",
       "      <td>NaN</td>\n",
       "      <td>1.0</td>\n",
       "      <td>1.0</td>\n",
       "      <td>NaN</td>\n",
       "      <td>1006</td>\n",
       "      <td>0.0</td>\n",
       "      <td>0.0</td>\n",
       "      <td>0.00</td>\n",
       "      <td>0.00</td>\n",
       "    </tr>\n",
       "    <tr>\n",
       "      <th>2</th>\n",
       "      <td>7001625959</td>\n",
       "      <td>109</td>\n",
       "      <td>0.0</td>\n",
       "      <td>0.0</td>\n",
       "      <td>0.0</td>\n",
       "      <td>6/30/2014</td>\n",
       "      <td>7/31/2014</td>\n",
       "      <td>8/31/2014</td>\n",
       "      <td>9/30/2014</td>\n",
       "      <td>167.690</td>\n",
       "      <td>...</td>\n",
       "      <td>0</td>\n",
       "      <td>NaN</td>\n",
       "      <td>NaN</td>\n",
       "      <td>NaN</td>\n",
       "      <td>1.0</td>\n",
       "      <td>1103</td>\n",
       "      <td>0.0</td>\n",
       "      <td>0.0</td>\n",
       "      <td>4.17</td>\n",
       "      <td>0.00</td>\n",
       "    </tr>\n",
       "    <tr>\n",
       "      <th>3</th>\n",
       "      <td>7001204172</td>\n",
       "      <td>109</td>\n",
       "      <td>0.0</td>\n",
       "      <td>0.0</td>\n",
       "      <td>0.0</td>\n",
       "      <td>6/30/2014</td>\n",
       "      <td>7/31/2014</td>\n",
       "      <td>8/31/2014</td>\n",
       "      <td>9/30/2014</td>\n",
       "      <td>221.338</td>\n",
       "      <td>...</td>\n",
       "      <td>0</td>\n",
       "      <td>NaN</td>\n",
       "      <td>NaN</td>\n",
       "      <td>NaN</td>\n",
       "      <td>NaN</td>\n",
       "      <td>2491</td>\n",
       "      <td>0.0</td>\n",
       "      <td>0.0</td>\n",
       "      <td>0.00</td>\n",
       "      <td>0.00</td>\n",
       "    </tr>\n",
       "    <tr>\n",
       "      <th>4</th>\n",
       "      <td>7000142493</td>\n",
       "      <td>109</td>\n",
       "      <td>0.0</td>\n",
       "      <td>0.0</td>\n",
       "      <td>0.0</td>\n",
       "      <td>6/30/2014</td>\n",
       "      <td>7/31/2014</td>\n",
       "      <td>8/31/2014</td>\n",
       "      <td>9/30/2014</td>\n",
       "      <td>261.636</td>\n",
       "      <td>...</td>\n",
       "      <td>0</td>\n",
       "      <td>0.0</td>\n",
       "      <td>NaN</td>\n",
       "      <td>NaN</td>\n",
       "      <td>NaN</td>\n",
       "      <td>1526</td>\n",
       "      <td>0.0</td>\n",
       "      <td>0.0</td>\n",
       "      <td>0.00</td>\n",
       "      <td>0.00</td>\n",
       "    </tr>\n",
       "  </tbody>\n",
       "</table>\n",
       "<p>5 rows × 226 columns</p>\n",
       "</div>"
      ],
      "text/plain": [
       "   mobile_number  circle_id  loc_og_t2o_mou  std_og_t2o_mou  loc_ic_t2o_mou  \\\n",
       "0     7000842753        109             0.0             0.0             0.0   \n",
       "1     7001865778        109             0.0             0.0             0.0   \n",
       "2     7001625959        109             0.0             0.0             0.0   \n",
       "3     7001204172        109             0.0             0.0             0.0   \n",
       "4     7000142493        109             0.0             0.0             0.0   \n",
       "\n",
       "  last_date_of_month_6 last_date_of_month_7 last_date_of_month_8  \\\n",
       "0            6/30/2014            7/31/2014            8/31/2014   \n",
       "1            6/30/2014            7/31/2014            8/31/2014   \n",
       "2            6/30/2014            7/31/2014            8/31/2014   \n",
       "3            6/30/2014            7/31/2014            8/31/2014   \n",
       "4            6/30/2014            7/31/2014            8/31/2014   \n",
       "\n",
       "  last_date_of_month_9   arpu_6  ...  sachet_3g_9  fb_user_6  fb_user_7  \\\n",
       "0            9/30/2014  197.385  ...            0        1.0        1.0   \n",
       "1            9/30/2014   34.047  ...            0        NaN        1.0   \n",
       "2            9/30/2014  167.690  ...            0        NaN        NaN   \n",
       "3            9/30/2014  221.338  ...            0        NaN        NaN   \n",
       "4            9/30/2014  261.636  ...            0        0.0        NaN   \n",
       "\n",
       "   fb_user_8  fb_user_9   aon  aug_vbc_3g  jul_vbc_3g  jun_vbc_3g  sep_vbc_3g  \n",
       "0        1.0        NaN   968        30.4         0.0      101.20        3.58  \n",
       "1        1.0        NaN  1006         0.0         0.0        0.00        0.00  \n",
       "2        NaN        1.0  1103         0.0         0.0        4.17        0.00  \n",
       "3        NaN        NaN  2491         0.0         0.0        0.00        0.00  \n",
       "4        NaN        NaN  1526         0.0         0.0        0.00        0.00  \n",
       "\n",
       "[5 rows x 226 columns]"
      ]
     },
     "execution_count": 98,
     "metadata": {},
     "output_type": "execute_result"
    }
   ],
   "source": [
    "churn_df.head()"
   ]
  },
  {
   "cell_type": "code",
   "execution_count": 99,
   "metadata": {},
   "outputs": [
    {
     "data": {
      "text/plain": [
       "Index(['mobile_number', 'circle_id', 'loc_og_t2o_mou', 'std_og_t2o_mou',\n",
       "       'loc_ic_t2o_mou', 'last_date_of_month_6', 'last_date_of_month_7',\n",
       "       'last_date_of_month_8', 'last_date_of_month_9', 'arpu_6',\n",
       "       ...\n",
       "       'sachet_3g_9', 'fb_user_6', 'fb_user_7', 'fb_user_8', 'fb_user_9',\n",
       "       'aon', 'aug_vbc_3g', 'jul_vbc_3g', 'jun_vbc_3g', 'sep_vbc_3g'],\n",
       "      dtype='object', length=226)"
      ]
     },
     "execution_count": 99,
     "metadata": {},
     "output_type": "execute_result"
    }
   ],
   "source": [
    "churn_df.columns"
   ]
  },
  {
   "cell_type": "markdown",
   "metadata": {},
   "source": [
    "## Since, the most of the revenue come from the 'High-value customers'\n",
    "### First Filtering high-value customers"
   ]
  },
  {
   "cell_type": "code",
   "execution_count": 100,
   "metadata": {},
   "outputs": [],
   "source": [
    "#Creating a Derived column of: total data recharge amounts\n",
    "\n",
    "churn_df[\"t_rech_data_ammount_6\"] = churn_df[\"total_rech_data_6\"]  * churn_df['av_rech_amt_data_6']\n",
    "churn_df[\"t_rech_data_ammount_7\"] = churn_df[\"total_rech_data_7\"]  * churn_df['av_rech_amt_data_7']\n",
    "churn_df[\"t_rech_data_ammount_8\"] = churn_df[\"total_rech_data_8\"]  * churn_df['av_rech_amt_data_8']\n",
    "churn_df[\"t_rech_data_ammount_9\"] = churn_df[\"total_rech_data_9\"]  * churn_df['av_rech_amt_data_9']"
   ]
  },
  {
   "cell_type": "code",
   "execution_count": 101,
   "metadata": {},
   "outputs": [],
   "source": [
    "#Dropping the original column columns after creating a drived column from the data\n",
    "\n",
    "churn_df.drop([\"total_rech_data_6\", \"total_rech_data_7\", \"total_rech_data_8\", \"total_rech_data_9\", \n",
    "                'av_rech_amt_data_6', 'av_rech_amt_data_7', 'av_rech_amt_data_8', 'av_rech_amt_data_9'], axis=1, inplace=True)\n",
    "\n"
   ]
  },
  {
   "cell_type": "code",
   "execution_count": 102,
   "metadata": {},
   "outputs": [
    {
     "data": {
      "text/plain": [
       "(99999, 222)"
      ]
     },
     "execution_count": 102,
     "metadata": {},
     "output_type": "execute_result"
    }
   ],
   "source": [
    "# shape of the dataframe after dropping original columns\n",
    "churn_df.shape"
   ]
  },
  {
   "cell_type": "code",
   "execution_count": 103,
   "metadata": {},
   "outputs": [],
   "source": [
    "#Average of Recharge Amount in 6th and 7th Month\n",
    "\n",
    "Average_rechage_amount = (churn_df[\"total_rech_amt_6\"].fillna(0) + churn_df[\"t_rech_data_ammount_6\"].fillna(0) + \n",
    "churn_df[\"total_rech_amt_7\"].fillna(0) + churn_df[\"t_rech_data_ammount_7\"].fillna(0))/2.0\n",
    "\n"
   ]
  },
  {
   "cell_type": "code",
   "execution_count": 104,
   "metadata": {},
   "outputs": [
    {
     "data": {
      "text/plain": [
       "0.10     60.0\n",
       "0.25    128.0\n",
       "0.50    275.0\n",
       "0.70    478.0\n",
       "dtype: float64"
      ]
     },
     "execution_count": 104,
     "metadata": {},
     "output_type": "execute_result"
    }
   ],
   "source": [
    "#70th Percentile of Avg Recharge Amount\n",
    "Average_rechage_amount.quantile([.1, .25, .5, .70])"
   ]
  },
  {
   "cell_type": "code",
   "execution_count": 105,
   "metadata": {},
   "outputs": [],
   "source": [
    "# Filter the data of high value customers\n",
    "churn_df = churn_df[Average_rechage_amount >= 478]"
   ]
  },
  {
   "cell_type": "code",
   "execution_count": 106,
   "metadata": {},
   "outputs": [
    {
     "data": {
      "text/plain": [
       "(30001, 222)"
      ]
     },
     "execution_count": 106,
     "metadata": {},
     "output_type": "execute_result"
    }
   ],
   "source": [
    "#check the shape of the dataframe containg information of high-value customers\n",
    "churn_df.shape"
   ]
  },
  {
   "cell_type": "markdown",
   "metadata": {},
   "source": [
    "### Data Cleaning & EDA"
   ]
  },
  {
   "cell_type": "code",
   "execution_count": 107,
   "metadata": {},
   "outputs": [],
   "source": [
    "# Check the percentage missing values in each column\n",
    "Missing_val=round((churn_df.isnull().sum()*100/len(churn_df.index)),2)"
   ]
  },
  {
   "cell_type": "code",
   "execution_count": 108,
   "metadata": {},
   "outputs": [],
   "source": [
    "# Dropping the columns having more than 40% null values. \n",
    "\n",
    "Missing_values = [col for col in churn_df.columns if churn_df[col].isna().mean()>=0.4]\n",
    "churn_df = churn_df.drop(Missing_values, axis= 1)"
   ]
  },
  {
   "cell_type": "code",
   "execution_count": 109,
   "metadata": {},
   "outputs": [
    {
     "data": {
      "text/plain": [
       "(30001, 186)"
      ]
     },
     "execution_count": 109,
     "metadata": {},
     "output_type": "execute_result"
    }
   ],
   "source": [
    "# shape of dataframe\n",
    "churn_df.shape"
   ]
  },
  {
   "cell_type": "code",
   "execution_count": 110,
   "metadata": {},
   "outputs": [
    {
     "name": "stdout",
     "output_type": "stream",
     "text": [
      "<class 'pandas.core.frame.DataFrame'>\n",
      "Int64Index: 30001 entries, 0 to 99997\n",
      "Columns: 186 entries, mobile_number to sep_vbc_3g\n",
      "dtypes: float64(143), int64(35), object(8)\n",
      "memory usage: 42.8+ MB\n"
     ]
    }
   ],
   "source": [
    "churn_df.info()"
   ]
  },
  {
   "cell_type": "code",
   "execution_count": 111,
   "metadata": {},
   "outputs": [],
   "source": [
    "Date_datatype = churn_df.select_dtypes(include=['object']).columns"
   ]
  },
  {
   "cell_type": "code",
   "execution_count": 112,
   "metadata": {},
   "outputs": [
    {
     "data": {
      "text/plain": [
       "Index(['last_date_of_month_6', 'last_date_of_month_7', 'last_date_of_month_8',\n",
       "       'last_date_of_month_9', 'date_of_last_rech_6', 'date_of_last_rech_7',\n",
       "       'date_of_last_rech_8', 'date_of_last_rech_9'],\n",
       "      dtype='object')"
      ]
     },
     "execution_count": 112,
     "metadata": {},
     "output_type": "execute_result"
    }
   ],
   "source": [
    "Date_datatype"
   ]
  },
  {
   "cell_type": "markdown",
   "metadata": {},
   "source": [
    "#### For the sake our convience we can leave last 9th month recharge done by the customer it might be useful for fields like dateof_last_rech_X, 'total_rech_amt_X', 'max_rech_amt"
   ]
  },
  {
   "cell_type": "code",
   "execution_count": 113,
   "metadata": {},
   "outputs": [],
   "source": [
    "churn_df=churn_df.drop(['last_date_of_month_6', 'last_date_of_month_7', 'last_date_of_month_8',\n",
    "       'last_date_of_month_9', 'date_of_last_rech_6', 'date_of_last_rech_7',\n",
    "       'date_of_last_rech_8'],axis=1)"
   ]
  },
  {
   "cell_type": "code",
   "execution_count": 114,
   "metadata": {},
   "outputs": [
    {
     "data": {
      "text/plain": [
       "(30001, 179)"
      ]
     },
     "execution_count": 114,
     "metadata": {},
     "output_type": "execute_result"
    }
   ],
   "source": [
    "churn_df.shape"
   ]
  },
  {
   "cell_type": "code",
   "execution_count": 115,
   "metadata": {},
   "outputs": [],
   "source": [
    "#Tag Churners"
   ]
  },
  {
   "cell_type": "code",
   "execution_count": 116,
   "metadata": {},
   "outputs": [
    {
     "data": {
      "text/html": [
       "<div>\n",
       "<style scoped>\n",
       "    .dataframe tbody tr th:only-of-type {\n",
       "        vertical-align: middle;\n",
       "    }\n",
       "\n",
       "    .dataframe tbody tr th {\n",
       "        vertical-align: top;\n",
       "    }\n",
       "\n",
       "    .dataframe thead th {\n",
       "        text-align: right;\n",
       "    }\n",
       "</style>\n",
       "<table border=\"1\" class=\"dataframe\">\n",
       "  <thead>\n",
       "    <tr style=\"text-align: right;\">\n",
       "      <th></th>\n",
       "      <th>total_ic_mou_9</th>\n",
       "      <th>total_og_mou_9</th>\n",
       "      <th>vol_2g_mb_9</th>\n",
       "      <th>vol_3g_mb_9</th>\n",
       "    </tr>\n",
       "  </thead>\n",
       "  <tbody>\n",
       "    <tr>\n",
       "      <th>0</th>\n",
       "      <td>0.00</td>\n",
       "      <td>0.00</td>\n",
       "      <td>0.00</td>\n",
       "      <td>0.00</td>\n",
       "    </tr>\n",
       "    <tr>\n",
       "      <th>7</th>\n",
       "      <td>0.00</td>\n",
       "      <td>0.00</td>\n",
       "      <td>0.00</td>\n",
       "      <td>0.00</td>\n",
       "    </tr>\n",
       "    <tr>\n",
       "      <th>8</th>\n",
       "      <td>34.91</td>\n",
       "      <td>142.18</td>\n",
       "      <td>0.00</td>\n",
       "      <td>0.00</td>\n",
       "    </tr>\n",
       "    <tr>\n",
       "      <th>21</th>\n",
       "      <td>252.61</td>\n",
       "      <td>1031.53</td>\n",
       "      <td>0.00</td>\n",
       "      <td>0.00</td>\n",
       "    </tr>\n",
       "    <tr>\n",
       "      <th>23</th>\n",
       "      <td>127.48</td>\n",
       "      <td>127.63</td>\n",
       "      <td>13.93</td>\n",
       "      <td>314.74</td>\n",
       "    </tr>\n",
       "  </tbody>\n",
       "</table>\n",
       "</div>"
      ],
      "text/plain": [
       "    total_ic_mou_9  total_og_mou_9  vol_2g_mb_9  vol_3g_mb_9\n",
       "0             0.00            0.00         0.00         0.00\n",
       "7             0.00            0.00         0.00         0.00\n",
       "8            34.91          142.18         0.00         0.00\n",
       "21          252.61         1031.53         0.00         0.00\n",
       "23          127.48          127.63        13.93       314.74"
      ]
     },
     "execution_count": 116,
     "metadata": {},
     "output_type": "execute_result"
    }
   ],
   "source": [
    "churn_df[['total_ic_mou_9','total_og_mou_9','vol_2g_mb_9','vol_3g_mb_9']].head()"
   ]
  },
  {
   "cell_type": "code",
   "execution_count": 117,
   "metadata": {},
   "outputs": [],
   "source": [
    "#churned customers (churn=1, else 0) \n",
    "churn_df['churn'] = np.where(churn_df[['total_ic_mou_9','total_og_mou_9','vol_2g_mb_9','vol_3g_mb_9']].sum(axis=1) == 0,1,0)"
   ]
  },
  {
   "cell_type": "code",
   "execution_count": 118,
   "metadata": {},
   "outputs": [
    {
     "data": {
      "text/plain": [
       "0     1\n",
       "7     1\n",
       "8     0\n",
       "21    0\n",
       "23    0\n",
       "33    0\n",
       "38    0\n",
       "41    0\n",
       "48    0\n",
       "53    0\n",
       "Name: churn, dtype: int64"
      ]
     },
     "execution_count": 118,
     "metadata": {},
     "output_type": "execute_result"
    }
   ],
   "source": [
    "churn_df['churn'].head(10)"
   ]
  },
  {
   "cell_type": "code",
   "execution_count": 119,
   "metadata": {},
   "outputs": [
    {
     "data": {
      "text/plain": [
       "(30001, 137)"
      ]
     },
     "execution_count": 119,
     "metadata": {},
     "output_type": "execute_result"
    }
   ],
   "source": [
    "#Remove All 9th Month related columns\n",
    "drop_cloumns_9 = [col for col in churn_df.columns if '_9' in col]\n",
    "\n",
    "churn_df.drop(drop_cloumns_9, axis=1, inplace=True)\n",
    "\n",
    "churn_df.shape"
   ]
  },
  {
   "cell_type": "markdown",
   "metadata": {},
   "source": [
    "#### filtering to good phase and removing the columns"
   ]
  },
  {
   "cell_type": "code",
   "execution_count": 120,
   "metadata": {},
   "outputs": [],
   "source": [
    "# create derived columns for good phase\n",
    "\n",
    "churn_df['monthly_2g_good'] = (churn_df['monthly_2g_6'] + churn_df['monthly_2g_7'])/2\n",
    "churn_df['monthly_3g_good'] = (churn_df['monthly_3g_6'] + churn_df['monthly_3g_7'])/2\n",
    "churn_df['sachet_2g_good'] = (churn_df['sachet_2g_6']+ churn_df['sachet_2g_7'])/2\n",
    "churn_df['sachet_3g_good'] = (churn_df['sachet_3g_6'] + churn_df['sachet_3g_7'])/2\n",
    "churn_df['vbc_good'] = (churn_df['jun_vbc_3g'] + churn_df['jul_vbc_3g'])/2"
   ]
  },
  {
   "cell_type": "code",
   "execution_count": 121,
   "metadata": {},
   "outputs": [],
   "source": [
    "# drop original columns\n",
    "\n",
    "churn_df= churn_df.drop(['monthly_2g_6', 'monthly_2g_7','monthly_3g_6','monthly_3g_7',\n",
    "             'sachet_2g_6','sachet_2g_7','sachet_3g_6','sachet_3g_7',\n",
    "            'jun_vbc_3g','jul_vbc_3g'], axis=1)"
   ]
  },
  {
   "cell_type": "code",
   "execution_count": 122,
   "metadata": {},
   "outputs": [],
   "source": [
    "# create derived columns for good phase by avering out the data \n",
    "\n",
    "churn_df['total_rech_num_good'] = (churn_df['total_rech_num_6'] + churn_df['total_rech_num_7'])/2\n",
    "churn_df['total_rech_amt_good'] = (churn_df['total_rech_amt_6'] + churn_df['total_rech_amt_7'])/2\n",
    "churn_df['max_rech_amt_good'] = (churn_df['max_rech_amt_6']+ churn_df['max_rech_amt_7'])/2\n",
    "churn_df['last_day_rch_amt_good'] = (churn_df['last_day_rch_amt_6'] + churn_df['last_day_rch_amt_7'])/2"
   ]
  },
  {
   "cell_type": "code",
   "execution_count": 123,
   "metadata": {},
   "outputs": [],
   "source": [
    "# drop original data columns\n",
    "\n",
    "churn_df= churn_df.drop(['total_rech_num_6', 'total_rech_num_7','total_rech_amt_6','total_rech_amt_7','max_rech_amt_6','max_rech_amt_7',\n",
    "             'last_day_rch_amt_6','last_day_rch_amt_7'], axis=1)"
   ]
  },
  {
   "cell_type": "code",
   "execution_count": 124,
   "metadata": {},
   "outputs": [],
   "source": [
    "# create derived columns for good phase\n",
    "\n",
    "churn_df['arpu_good'] = (churn_df['arpu_6'] + churn_df['arpu_7'])/2\n",
    "churn_df['onnet_mou_good'] = (churn_df['onnet_mou_6'] + churn_df['onnet_mou_7'])/2\n",
    "churn_df['offnet_mou_good'] = (churn_df['offnet_mou_6']+ churn_df['offnet_mou_7'])/2\n",
    "churn_df['total_og_mou_good'] = (churn_df['total_og_mou_6'] + churn_df['total_og_mou_7'])/2\n",
    "churn_df['total_ic_mou_good'] = (churn_df['total_ic_mou_6'] + churn_df['total_ic_mou_7'])/2\n",
    "churn_df['vol_2g_mb_good'] = (churn_df['vol_2g_mb_6'] + churn_df['vol_2g_mb_7'])/2\n",
    "churn_df['vol_3g_mb_good'] = (churn_df['vol_3g_mb_6']+ churn_df['vol_3g_mb_7'])/2"
   ]
  },
  {
   "cell_type": "code",
   "execution_count": 125,
   "metadata": {},
   "outputs": [],
   "source": [
    "# drop original data columns\n",
    "\n",
    "churn_df= churn_df.drop(['arpu_6', 'arpu_7',\n",
    "             'onnet_mou_6','onnet_mou_7',\n",
    "             'offnet_mou_6','offnet_mou_7',\n",
    "             'total_og_mou_6','total_og_mou_7',\n",
    "             'total_ic_mou_6','total_ic_mou_7',\n",
    "             'vol_2g_mb_6','vol_2g_mb_7',\n",
    "             'vol_3g_mb_6','vol_3g_mb_7',            \n",
    "            ], axis=1)"
   ]
  },
  {
   "cell_type": "code",
   "execution_count": 126,
   "metadata": {},
   "outputs": [
    {
     "data": {
      "text/plain": [
       "(30001, 121)"
      ]
     },
     "execution_count": 126,
     "metadata": {},
     "output_type": "execute_result"
    }
   ],
   "source": [
    "churn_df.shape"
   ]
  },
  {
   "cell_type": "code",
   "execution_count": 127,
   "metadata": {},
   "outputs": [],
   "source": [
    "#Lets remove all the Local/STD /ISD call. \n",
    "#We will consider only total Incoming, total outgoing, 2g vol and 3g vol to consider subscriber usage activity\n",
    "\n",
    "churn_df= churn_df.drop(['loc_og_t2o_mou','std_og_t2o_mou','loc_ic_t2o_mou','roam_ic_mou_6',\n",
    "       'roam_ic_mou_7', 'roam_ic_mou_8', 'roam_og_mou_6',\n",
    "       'roam_og_mou_7', 'roam_og_mou_8', \n",
    "       'loc_og_t2t_mou_6', 'loc_og_t2t_mou_7', 'loc_og_t2t_mou_8',\n",
    "       'loc_og_t2m_mou_6', 'loc_og_t2m_mou_7',\n",
    "       'loc_og_t2m_mou_8', 'loc_og_t2f_mou_6',\n",
    "       'loc_og_t2f_mou_7', 'loc_og_t2f_mou_8', \n",
    "       'loc_og_t2c_mou_6', 'loc_og_t2c_mou_7', 'loc_og_t2c_mou_8',\n",
    "        'loc_og_mou_6', 'loc_og_mou_7', 'loc_og_mou_8','std_og_t2t_mou_6', 'std_og_t2t_mou_7',\n",
    "       'std_og_t2t_mou_8', 'std_og_t2m_mou_6',\n",
    "       'std_og_t2m_mou_7', 'std_og_t2m_mou_8', \n",
    "       'std_og_t2f_mou_6', 'std_og_t2f_mou_7', 'std_og_t2f_mou_8',\n",
    "      'std_og_t2c_mou_6', 'std_og_t2c_mou_7',\n",
    "       'std_og_t2c_mou_8', 'std_og_mou_6',\n",
    "       'std_og_mou_7', 'std_og_mou_8','isd_og_mou_6',\n",
    "       'isd_og_mou_7', 'isd_og_mou_8','spl_og_mou_6',\n",
    "       'spl_og_mou_7', 'spl_og_mou_8','og_others_6',\n",
    "       'og_others_7', 'og_others_8',\n",
    "       'loc_ic_t2t_mou_6', 'loc_ic_t2t_mou_7', 'loc_ic_t2t_mou_8',\n",
    "        'loc_ic_t2m_mou_6', 'loc_ic_t2m_mou_7',\n",
    "       'loc_ic_t2m_mou_8', 'loc_ic_t2f_mou_6',\n",
    "       'loc_ic_t2f_mou_7', 'loc_ic_t2f_mou_8', \n",
    "       'loc_ic_mou_6', 'loc_ic_mou_7', 'loc_ic_mou_8',\n",
    "       'std_ic_t2t_mou_6', 'std_ic_t2t_mou_7', 'std_ic_t2t_mou_8',\n",
    "       'std_ic_t2m_mou_6', 'std_ic_t2m_mou_7',\n",
    "       'std_ic_t2m_mou_8',  'std_ic_t2f_mou_6',\n",
    "       'std_ic_t2f_mou_7', 'std_ic_t2f_mou_8', \n",
    "       'std_ic_t2o_mou_6', 'std_ic_t2o_mou_7', 'std_ic_t2o_mou_8',\n",
    "       'std_ic_mou_6', 'std_ic_mou_7', 'std_ic_mou_8',\n",
    "       'spl_ic_mou_6', 'spl_ic_mou_7',\n",
    "       'spl_ic_mou_8',  'isd_ic_mou_6', 'isd_ic_mou_7',\n",
    "       'isd_ic_mou_8',  'ic_others_6', 'ic_others_7',\n",
    "       'ic_others_8'], axis=1)"
   ]
  },
  {
   "cell_type": "code",
   "execution_count": 128,
   "metadata": {},
   "outputs": [
    {
     "data": {
      "text/plain": [
       "(30001, 37)"
      ]
     },
     "execution_count": 128,
     "metadata": {},
     "output_type": "execute_result"
    }
   ],
   "source": [
    "# shape of final dataframe with derived columns\n",
    "\n",
    "churn_df.shape"
   ]
  },
  {
   "cell_type": "code",
   "execution_count": 129,
   "metadata": {},
   "outputs": [
    {
     "data": {
      "text/plain": [
       "monthly_2g_good        monthly_2g_8           0.604100\n",
       "aug_vbc_3g             vol_3g_mb_8            0.607689\n",
       "monthly_3g_8           vol_3g_mb_8            0.628812\n",
       "vol_3g_mb_good         vbc_good               0.643199\n",
       "                       monthly_3g_good        0.645618\n",
       "sachet_3g_good         sachet_3g_8            0.647244\n",
       "vol_2g_mb_good         vol_2g_mb_8            0.652133\n",
       "max_rech_amt_good      max_rech_amt_8         0.655936\n",
       "monthly_3g_good        monthly_3g_8           0.684383\n",
       "last_day_rch_amt_good  max_rech_amt_good      0.698503\n",
       "vbc_good               aug_vbc_3g             0.700257\n",
       "last_day_rch_amt_8     max_rech_amt_8         0.701826\n",
       "total_og_mou_good      onnet_mou_good         0.714048\n",
       "sachet_2g_good         sachet_2g_8            0.716388\n",
       "total_rech_num_good    total_rech_num_8       0.717581\n",
       "total_og_mou_good      total_og_mou_8         0.725865\n",
       "total_og_mou_8         onnet_mou_8            0.728255\n",
       "total_og_mou_good      offnet_mou_good        0.732974\n",
       "total_rech_amt_good    total_rech_amt_8       0.736589\n",
       "offnet_mou_good        offnet_mou_8           0.738059\n",
       "arpu_good              total_rech_amt_8       0.744406\n",
       "total_og_mou_8         offnet_mou_8           0.749865\n",
       "vol_3g_mb_good         vol_3g_mb_8            0.751138\n",
       "arpu_good              arpu_8                 0.752204\n",
       "total_rech_amt_good    arpu_8                 0.760100\n",
       "onnet_mou_good         onnet_mou_8            0.774476\n",
       "total_ic_mou_good      total_ic_mou_8         0.806188\n",
       "total_rech_amt_8       arpu_8                 0.955351\n",
       "arpu_good              total_rech_amt_good    0.976752\n",
       "dtype: float64"
      ]
     },
     "execution_count": 129,
     "metadata": {},
     "output_type": "execute_result"
    }
   ],
   "source": [
    "#Find Highly correlated data and drop Highly Correlated Columns\n",
    "cor = churn_df.corr()\n",
    "cor.loc[:,:] = np.tril(cor, k=-1)\n",
    "\n",
    "#stack corr values corresponding to columns\n",
    "cor = cor.stack()\n",
    "cor[(cor > 0.60) | (cor < -0.60)].sort_values()"
   ]
  },
  {
   "cell_type": "code",
   "execution_count": 130,
   "metadata": {},
   "outputs": [
    {
     "data": {
      "text/plain": [
       "Text(0.5, 1.0, 'Churn Distribution')"
      ]
     },
     "execution_count": 130,
     "metadata": {},
     "output_type": "execute_result"
    },
    {
     "data": {
      "image/png": "[encoded data removed]",
      "text/plain": [
       "<Figure size 360x360 with 1 Axes>"
      ]
     },
     "metadata": {},
     "output_type": "display_data"
    }
   ],
   "source": [
    "#Churn Distribution\n",
    "churn_rate = (churn_df['churn'].value_counts()*100.0 /len(churn_df)).plot.pie(autopct='%.1f%%', labels = ['No', 'Yes'],figsize =(5,5), fontsize = 12 )                                                                           \n",
    "\n",
    "churn_rate.set_ylabel('Churn',fontsize = 12)\n",
    "churn_rate.set_title('Churn Distribution', fontsize = 12)"
   ]
  },
  {
   "cell_type": "markdown",
   "metadata": {},
   "source": [
    "#### From the above diagram we can say that 91.9% of people won't churn"
   ]
  },
  {
   "cell_type": "code",
   "execution_count": 131,
   "metadata": {},
   "outputs": [
    {
     "data": {
      "text/plain": [
       "mobile_number            0.00\n",
       "circle_id                0.00\n",
       "arpu_8                   0.00\n",
       "onnet_mou_8              3.91\n",
       "offnet_mou_8             3.91\n",
       "total_og_mou_8           0.00\n",
       "total_ic_mou_8           0.00\n",
       "total_rech_num_8         0.00\n",
       "total_rech_amt_8         0.00\n",
       "max_rech_amt_8           0.00\n",
       "last_day_rch_amt_8       0.00\n",
       "vol_2g_mb_8              0.00\n",
       "vol_3g_mb_8              0.00\n",
       "monthly_2g_8             0.00\n",
       "sachet_2g_8              0.00\n",
       "monthly_3g_8             0.00\n",
       "sachet_3g_8              0.00\n",
       "aon                      0.00\n",
       "aug_vbc_3g               0.00\n",
       "sep_vbc_3g               0.00\n",
       "churn                    0.00\n",
       "monthly_2g_good          0.00\n",
       "monthly_3g_good          0.00\n",
       "sachet_2g_good           0.00\n",
       "sachet_3g_good           0.00\n",
       "vbc_good                 0.00\n",
       "total_rech_num_good      0.00\n",
       "total_rech_amt_good      0.00\n",
       "max_rech_amt_good        0.00\n",
       "last_day_rch_amt_good    0.00\n",
       "arpu_good                0.00\n",
       "onnet_mou_good           2.61\n",
       "offnet_mou_good          2.61\n",
       "total_og_mou_good        0.00\n",
       "total_ic_mou_good        0.00\n",
       "vol_2g_mb_good           0.00\n",
       "vol_3g_mb_good           0.00\n",
       "dtype: float64"
      ]
     },
     "execution_count": 131,
     "metadata": {},
     "output_type": "execute_result"
    }
   ],
   "source": [
    "# check the %missing values in final dataframe\n",
    "round(100*(churn_df.isnull().sum()/len(churn_df.index)),2)"
   ]
  },
  {
   "cell_type": "code",
   "execution_count": 132,
   "metadata": {},
   "outputs": [],
   "source": [
    "# fill datapoints with 0 inplace of NA \n",
    "\n",
    "churn_df.onnet_mou_8.fillna(0, inplace=True)\n",
    "churn_df.offnet_mou_8.fillna(0, inplace=True)\n",
    "churn_df.onnet_mou_good.fillna(0, inplace=True)\n",
    "churn_df.offnet_mou_good.fillna(0, inplace=True)"
   ]
  },
  {
   "cell_type": "code",
   "execution_count": 133,
   "metadata": {},
   "outputs": [
    {
     "data": {
      "text/plain": [
       "mobile_number            0.0\n",
       "circle_id                0.0\n",
       "arpu_8                   0.0\n",
       "onnet_mou_8              0.0\n",
       "offnet_mou_8             0.0\n",
       "total_og_mou_8           0.0\n",
       "total_ic_mou_8           0.0\n",
       "total_rech_num_8         0.0\n",
       "total_rech_amt_8         0.0\n",
       "max_rech_amt_8           0.0\n",
       "last_day_rch_amt_8       0.0\n",
       "vol_2g_mb_8              0.0\n",
       "vol_3g_mb_8              0.0\n",
       "monthly_2g_8             0.0\n",
       "sachet_2g_8              0.0\n",
       "monthly_3g_8             0.0\n",
       "sachet_3g_8              0.0\n",
       "aon                      0.0\n",
       "aug_vbc_3g               0.0\n",
       "sep_vbc_3g               0.0\n",
       "churn                    0.0\n",
       "monthly_2g_good          0.0\n",
       "monthly_3g_good          0.0\n",
       "sachet_2g_good           0.0\n",
       "sachet_3g_good           0.0\n",
       "vbc_good                 0.0\n",
       "total_rech_num_good      0.0\n",
       "total_rech_amt_good      0.0\n",
       "max_rech_amt_good        0.0\n",
       "last_day_rch_amt_good    0.0\n",
       "arpu_good                0.0\n",
       "onnet_mou_good           0.0\n",
       "offnet_mou_good          0.0\n",
       "total_og_mou_good        0.0\n",
       "total_ic_mou_good        0.0\n",
       "vol_2g_mb_good           0.0\n",
       "vol_3g_mb_good           0.0\n",
       "dtype: float64"
      ]
     },
     "execution_count": 133,
     "metadata": {},
     "output_type": "execute_result"
    }
   ],
   "source": [
    "# check percentage missing values\n",
    "\n",
    "round(100*(churn_df.isnull().sum()/len(churn_df.index)),2)"
   ]
  },
  {
   "cell_type": "markdown",
   "metadata": {},
   "source": [
    "### Model Building"
   ]
  },
  {
   "cell_type": "code",
   "execution_count": 134,
   "metadata": {},
   "outputs": [],
   "source": [
    "\n",
    "Drop_var = churn_df.drop(['churn'],1)"
   ]
  },
  {
   "cell_type": "code",
   "execution_count": 135,
   "metadata": {},
   "outputs": [
    {
     "data": {
      "text/html": [
       "<div>\n",
       "<style scoped>\n",
       "    .dataframe tbody tr th:only-of-type {\n",
       "        vertical-align: middle;\n",
       "    }\n",
       "\n",
       "    .dataframe tbody tr th {\n",
       "        vertical-align: top;\n",
       "    }\n",
       "\n",
       "    .dataframe thead th {\n",
       "        text-align: right;\n",
       "    }\n",
       "</style>\n",
       "<table border=\"1\" class=\"dataframe\">\n",
       "  <thead>\n",
       "    <tr style=\"text-align: right;\">\n",
       "      <th></th>\n",
       "      <th>churn</th>\n",
       "      <th>mobile_number</th>\n",
       "      <th>circle_id</th>\n",
       "      <th>arpu_8</th>\n",
       "      <th>onnet_mou_8</th>\n",
       "      <th>offnet_mou_8</th>\n",
       "      <th>total_og_mou_8</th>\n",
       "      <th>total_ic_mou_8</th>\n",
       "      <th>total_rech_num_8</th>\n",
       "      <th>total_rech_amt_8</th>\n",
       "      <th>...</th>\n",
       "      <th>total_rech_amt_good</th>\n",
       "      <th>max_rech_amt_good</th>\n",
       "      <th>last_day_rch_amt_good</th>\n",
       "      <th>arpu_good</th>\n",
       "      <th>onnet_mou_good</th>\n",
       "      <th>offnet_mou_good</th>\n",
       "      <th>total_og_mou_good</th>\n",
       "      <th>total_ic_mou_good</th>\n",
       "      <th>vol_2g_mb_good</th>\n",
       "      <th>vol_3g_mb_good</th>\n",
       "    </tr>\n",
       "  </thead>\n",
       "  <tbody>\n",
       "    <tr>\n",
       "      <th>0</th>\n",
       "      <td>1</td>\n",
       "      <td>-0.526007</td>\n",
       "      <td>NaN</td>\n",
       "      <td>-0.587285</td>\n",
       "      <td>-0.510663</td>\n",
       "      <td>-0.695090</td>\n",
       "      <td>-0.787575</td>\n",
       "      <td>-0.759972</td>\n",
       "      <td>-0.859667</td>\n",
       "      <td>-0.543751</td>\n",
       "      <td>...</td>\n",
       "      <td>-0.686400</td>\n",
       "      <td>0.526980</td>\n",
       "      <td>1.305768</td>\n",
       "      <td>-0.822351</td>\n",
       "      <td>-0.599146</td>\n",
       "      <td>-0.816386</td>\n",
       "      <td>-0.950145</td>\n",
       "      <td>-0.835848</td>\n",
       "      <td>-0.366911</td>\n",
       "      <td>-0.285793</td>\n",
       "    </tr>\n",
       "    <tr>\n",
       "      <th>7</th>\n",
       "      <td>1</td>\n",
       "      <td>-0.730315</td>\n",
       "      <td>NaN</td>\n",
       "      <td>5.304948</td>\n",
       "      <td>-0.396604</td>\n",
       "      <td>-0.019016</td>\n",
       "      <td>-0.287687</td>\n",
       "      <td>0.412036</td>\n",
       "      <td>-0.320547</td>\n",
       "      <td>4.995755</td>\n",
       "      <td>...</td>\n",
       "      <td>1.017880</td>\n",
       "      <td>6.577833</td>\n",
       "      <td>-0.867994</td>\n",
       "      <td>1.511665</td>\n",
       "      <td>-0.470832</td>\n",
       "      <td>0.298189</td>\n",
       "      <td>-0.108550</td>\n",
       "      <td>0.851640</td>\n",
       "      <td>-0.419322</td>\n",
       "      <td>-0.425278</td>\n",
       "    </tr>\n",
       "    <tr>\n",
       "      <th>8</th>\n",
       "      <td>0</td>\n",
       "      <td>0.461277</td>\n",
       "      <td>NaN</td>\n",
       "      <td>-0.739570</td>\n",
       "      <td>-0.434144</td>\n",
       "      <td>-0.411974</td>\n",
       "      <td>-0.542656</td>\n",
       "      <td>-0.729239</td>\n",
       "      <td>0.434222</td>\n",
       "      <td>-0.759703</td>\n",
       "      <td>...</td>\n",
       "      <td>-0.274888</td>\n",
       "      <td>-0.316118</td>\n",
       "      <td>-0.652343</td>\n",
       "      <td>-0.288816</td>\n",
       "      <td>0.272915</td>\n",
       "      <td>-0.624954</td>\n",
       "      <td>-0.228830</td>\n",
       "      <td>-0.647297</td>\n",
       "      <td>0.173949</td>\n",
       "      <td>0.021723</td>\n",
       "    </tr>\n",
       "    <tr>\n",
       "      <th>21</th>\n",
       "      <td>0</td>\n",
       "      <td>1.328823</td>\n",
       "      <td>NaN</td>\n",
       "      <td>0.257314</td>\n",
       "      <td>-0.324949</td>\n",
       "      <td>1.344873</td>\n",
       "      <td>0.737869</td>\n",
       "      <td>-0.052282</td>\n",
       "      <td>1.835934</td>\n",
       "      <td>0.218626</td>\n",
       "      <td>...</td>\n",
       "      <td>-0.040016</td>\n",
       "      <td>-0.783065</td>\n",
       "      <td>-0.652343</td>\n",
       "      <td>-0.008219</td>\n",
       "      <td>-0.331707</td>\n",
       "      <td>0.990595</td>\n",
       "      <td>0.499460</td>\n",
       "      <td>-0.352923</td>\n",
       "      <td>-0.419322</td>\n",
       "      <td>-0.425278</td>\n",
       "    </tr>\n",
       "    <tr>\n",
       "      <th>23</th>\n",
       "      <td>0</td>\n",
       "      <td>-0.461295</td>\n",
       "      <td>NaN</td>\n",
       "      <td>-0.282157</td>\n",
       "      <td>-0.437416</td>\n",
       "      <td>-0.267988</td>\n",
       "      <td>-0.445694</td>\n",
       "      <td>0.050964</td>\n",
       "      <td>-0.644019</td>\n",
       "      <td>-0.237818</td>\n",
       "      <td>...</td>\n",
       "      <td>-0.841688</td>\n",
       "      <td>-0.526893</td>\n",
       "      <td>-0.095963</td>\n",
       "      <td>-0.989774</td>\n",
       "      <td>-0.485542</td>\n",
       "      <td>-0.625522</td>\n",
       "      <td>-0.739572</td>\n",
       "      <td>-0.347951</td>\n",
       "      <td>-0.418523</td>\n",
       "      <td>-0.068671</td>\n",
       "    </tr>\n",
       "  </tbody>\n",
       "</table>\n",
       "<p>5 rows × 37 columns</p>\n",
       "</div>"
      ],
      "text/plain": [
       "    churn  mobile_number  circle_id    arpu_8  onnet_mou_8  offnet_mou_8  \\\n",
       "0       1      -0.526007        NaN -0.587285    -0.510663     -0.695090   \n",
       "7       1      -0.730315        NaN  5.304948    -0.396604     -0.019016   \n",
       "8       0       0.461277        NaN -0.739570    -0.434144     -0.411974   \n",
       "21      0       1.328823        NaN  0.257314    -0.324949      1.344873   \n",
       "23      0      -0.461295        NaN -0.282157    -0.437416     -0.267988   \n",
       "\n",
       "    total_og_mou_8  total_ic_mou_8  total_rech_num_8  total_rech_amt_8  ...  \\\n",
       "0        -0.787575       -0.759972         -0.859667         -0.543751  ...   \n",
       "7        -0.287687        0.412036         -0.320547          4.995755  ...   \n",
       "8        -0.542656       -0.729239          0.434222         -0.759703  ...   \n",
       "21        0.737869       -0.052282          1.835934          0.218626  ...   \n",
       "23       -0.445694        0.050964         -0.644019         -0.237818  ...   \n",
       "\n",
       "    total_rech_amt_good  max_rech_amt_good  last_day_rch_amt_good  arpu_good  \\\n",
       "0             -0.686400           0.526980               1.305768  -0.822351   \n",
       "7              1.017880           6.577833              -0.867994   1.511665   \n",
       "8             -0.274888          -0.316118              -0.652343  -0.288816   \n",
       "21            -0.040016          -0.783065              -0.652343  -0.008219   \n",
       "23            -0.841688          -0.526893              -0.095963  -0.989774   \n",
       "\n",
       "    onnet_mou_good  offnet_mou_good  total_og_mou_good  total_ic_mou_good  \\\n",
       "0        -0.599146        -0.816386          -0.950145          -0.835848   \n",
       "7        -0.470832         0.298189          -0.108550           0.851640   \n",
       "8         0.272915        -0.624954          -0.228830          -0.647297   \n",
       "21       -0.331707         0.990595           0.499460          -0.352923   \n",
       "23       -0.485542        -0.625522          -0.739572          -0.347951   \n",
       "\n",
       "    vol_2g_mb_good  vol_3g_mb_good  \n",
       "0        -0.366911       -0.285793  \n",
       "7        -0.419322       -0.425278  \n",
       "8         0.173949        0.021723  \n",
       "21       -0.419322       -0.425278  \n",
       "23       -0.418523       -0.068671  \n",
       "\n",
       "[5 rows x 37 columns]"
      ]
     },
     "execution_count": 135,
     "metadata": {},
     "output_type": "execute_result"
    }
   ],
   "source": [
    "model_normalized=(Drop_var-Drop_var.mean())/Drop_var.std()\n",
    "\n",
    "churn_df = pd.concat([churn_df['churn'],model_normalized],axis=1)\n",
    "churn_df.head()"
   ]
  },
  {
   "cell_type": "code",
   "execution_count": 136,
   "metadata": {},
   "outputs": [],
   "source": [
    "#No use of circle id hence dropping the circle id column\n",
    "churn_df=churn_df.drop(['circle_id'],axis=1)"
   ]
  },
  {
   "cell_type": "code",
   "execution_count": 137,
   "metadata": {},
   "outputs": [
    {
     "data": {
      "text/plain": [
       "(30001, 36)"
      ]
     },
     "execution_count": 137,
     "metadata": {},
     "output_type": "execute_result"
    }
   ],
   "source": [
    "churn_df.shape"
   ]
  },
  {
   "cell_type": "code",
   "execution_count": 138,
   "metadata": {},
   "outputs": [],
   "source": [
    "X = churn_df.drop(['churn'], axis=1)\n",
    "y = churn_df['churn']\n",
    "\n",
    "churn_df.drop('churn', axis=1, inplace=True)"
   ]
  },
  {
   "cell_type": "code",
   "execution_count": 139,
   "metadata": {},
   "outputs": [],
   "source": [
    "# Split in train & Test with 30% as test data and remaining as train data\n",
    "X_train, X_test, y_train, y_test = train_test_split(X, y, test_size=0.3, train_size=0.7, random_state=100)"
   ]
  },
  {
   "cell_type": "markdown",
   "metadata": {},
   "source": [
    "## Using PCA for Dimensionality reduction:"
   ]
  },
  {
   "cell_type": "code",
   "execution_count": 140,
   "metadata": {},
   "outputs": [],
   "source": [
    "#Improting the PCA module\n",
    "\n",
    "from sklearn.decomposition import PCA\n",
    "PCA_Model = PCA(svd_solver='randomized', random_state=42)"
   ]
  },
  {
   "cell_type": "code",
   "execution_count": 141,
   "metadata": {},
   "outputs": [
    {
     "data": {
      "text/plain": [
       "PCA(copy=True, iterated_power='auto', n_components=None, random_state=42,\n",
       "    svd_solver='randomized', tol=0.0, whiten=False)"
      ]
     },
     "execution_count": 141,
     "metadata": {},
     "output_type": "execute_result"
    }
   ],
   "source": [
    "#Applying PCA on the train data\n",
    "\n",
    "PCA_Model.fit(X_train)"
   ]
  },
  {
   "cell_type": "code",
   "execution_count": 142,
   "metadata": {},
   "outputs": [
    {
     "data": {
      "text/html": [
       "<div>\n",
       "<style scoped>\n",
       "    .dataframe tbody tr th:only-of-type {\n",
       "        vertical-align: middle;\n",
       "    }\n",
       "\n",
       "    .dataframe tbody tr th {\n",
       "        vertical-align: top;\n",
       "    }\n",
       "\n",
       "    .dataframe thead th {\n",
       "        text-align: right;\n",
       "    }\n",
       "</style>\n",
       "<table border=\"1\" class=\"dataframe\">\n",
       "  <thead>\n",
       "    <tr style=\"text-align: right;\">\n",
       "      <th></th>\n",
       "      <th>PC1</th>\n",
       "      <th>PC2</th>\n",
       "      <th>PC3</th>\n",
       "      <th>Feature</th>\n",
       "    </tr>\n",
       "  </thead>\n",
       "  <tbody>\n",
       "    <tr>\n",
       "      <th>0</th>\n",
       "      <td>0.022406</td>\n",
       "      <td>0.009244</td>\n",
       "      <td>-0.079389</td>\n",
       "      <td>mobile_number</td>\n",
       "    </tr>\n",
       "    <tr>\n",
       "      <th>1</th>\n",
       "      <td>0.346628</td>\n",
       "      <td>0.020241</td>\n",
       "      <td>0.098679</td>\n",
       "      <td>arpu_8</td>\n",
       "    </tr>\n",
       "    <tr>\n",
       "      <th>2</th>\n",
       "      <td>0.169718</td>\n",
       "      <td>-0.166610</td>\n",
       "      <td>0.056561</td>\n",
       "      <td>onnet_mou_8</td>\n",
       "    </tr>\n",
       "    <tr>\n",
       "      <th>3</th>\n",
       "      <td>0.233861</td>\n",
       "      <td>-0.133357</td>\n",
       "      <td>0.015828</td>\n",
       "      <td>offnet_mou_8</td>\n",
       "    </tr>\n",
       "    <tr>\n",
       "      <th>4</th>\n",
       "      <td>0.263865</td>\n",
       "      <td>-0.201103</td>\n",
       "      <td>0.051435</td>\n",
       "      <td>total_og_mou_8</td>\n",
       "    </tr>\n",
       "  </tbody>\n",
       "</table>\n",
       "</div>"
      ],
      "text/plain": [
       "        PC1       PC2       PC3         Feature\n",
       "0  0.022406  0.009244 -0.079389   mobile_number\n",
       "1  0.346628  0.020241  0.098679          arpu_8\n",
       "2  0.169718 -0.166610  0.056561     onnet_mou_8\n",
       "3  0.233861 -0.133357  0.015828    offnet_mou_8\n",
       "4  0.263865 -0.201103  0.051435  total_og_mou_8"
      ]
     },
     "execution_count": 142,
     "metadata": {},
     "output_type": "execute_result"
    }
   ],
   "source": [
    "col = list(churn_df.columns)\n",
    "Model_pca = pd.DataFrame({'PC1':PCA_Model.components_[0],'PC2':PCA_Model.components_[1], 'PC3':PCA_Model.components_[2],'Feature':col})\n",
    "Model_pca.head()"
   ]
  },
  {
   "cell_type": "code",
   "execution_count": 143,
   "metadata": {},
   "outputs": [
    {
     "data": {
      "image/png": "[encoded data removed]",
      "text/plain": [
       "<Figure size 864x576 with 1 Axes>"
      ]
     },
     "metadata": {
      "needs_background": "light"
     },
     "output_type": "display_data"
    }
   ],
   "source": [
    "#Making the screeplot - plotting the cumulative variance against the number of components\n",
    "\n",
    "%matplotlib inline\n",
    "fig = plt.figure(figsize = (12,8))\n",
    "\n",
    "plt.plot(np.cumsum(PCA_Model.explained_variance_ratio_))\n",
    "plt.xlabel('number of components')\n",
    "plt.ylabel('cumulative explained variance')\n",
    "plt.show()"
   ]
  },
  {
   "cell_type": "code",
   "execution_count": 144,
   "metadata": {},
   "outputs": [
    {
     "data": {
      "text/plain": [
       "array([19.34, 33.27, 41.92, 48.31, 53.62, 58.61, 62.85, 66.72, 70.04,\n",
       "       73.32, 76.36, 79.17, 81.73, 83.82, 85.67, 87.46, 89.17, 90.62,\n",
       "       91.93, 93.06, 94.14, 95.04, 95.91, 96.62, 97.25, 97.85, 98.4 ,\n",
       "       98.9 , 99.26, 99.54, 99.77, 99.86, 99.92, 99.97, 99.99])"
      ]
     },
     "execution_count": 144,
     "metadata": {},
     "output_type": "execute_result"
    }
   ],
   "source": [
    "np.cumsum(np.round(PCA_Model.explained_variance_ratio_, decimals=4)*100)"
   ]
  },
  {
   "cell_type": "markdown",
   "metadata": {},
   "source": [
    "\n",
    "### From the above statement we can say that 20 features is enough to give 90 percent variance."
   ]
  },
  {
   "cell_type": "markdown",
   "metadata": {},
   "source": [
    "## 1. Logistic Regression"
   ]
  },
  {
   "cell_type": "code",
   "execution_count": 145,
   "metadata": {},
   "outputs": [
    {
     "data": {
      "text/html": [
       "<table class=\"simpletable\">\n",
       "<caption>Generalized Linear Model Regression Results</caption>\n",
       "<tr>\n",
       "  <th>Dep. Variable:</th>         <td>churn</td>      <th>  No. Observations:  </th>  <td> 21000</td> \n",
       "</tr>\n",
       "<tr>\n",
       "  <th>Model:</th>                  <td>GLM</td>       <th>  Df Residuals:      </th>  <td> 20964</td> \n",
       "</tr>\n",
       "<tr>\n",
       "  <th>Model Family:</th>        <td>Binomial</td>     <th>  Df Model:          </th>  <td>    35</td> \n",
       "</tr>\n",
       "<tr>\n",
       "  <th>Link Function:</th>         <td>logit</td>      <th>  Scale:             </th> <td>  1.0000</td>\n",
       "</tr>\n",
       "<tr>\n",
       "  <th>Method:</th>                <td>IRLS</td>       <th>  Log-Likelihood:    </th> <td> -3930.0</td>\n",
       "</tr>\n",
       "<tr>\n",
       "  <th>Date:</th>            <td>Mon, 04 Nov 2019</td> <th>  Deviance:          </th> <td>  7860.1</td>\n",
       "</tr>\n",
       "<tr>\n",
       "  <th>Time:</th>                <td>21:35:35</td>     <th>  Pearson chi2:      </th> <td>4.41e+06</td>\n",
       "</tr>\n",
       "<tr>\n",
       "  <th>No. Iterations:</th>         <td>10</td>        <th>                     </th>     <td> </td>   \n",
       "</tr>\n",
       "<tr>\n",
       "  <th>Covariance Type:</th>     <td>nonrobust</td>    <th>                     </th>     <td> </td>   \n",
       "</tr>\n",
       "</table>\n",
       "<table class=\"simpletable\">\n",
       "<tr>\n",
       "            <td></td>               <th>coef</th>     <th>std err</th>      <th>z</th>      <th>P>|z|</th>  <th>[0.025</th>    <th>0.975]</th>  \n",
       "</tr>\n",
       "<tr>\n",
       "  <th>const</th>                 <td>   -4.2576</td> <td>    0.081</td> <td>  -52.364</td> <td> 0.000</td> <td>   -4.417</td> <td>   -4.098</td>\n",
       "</tr>\n",
       "<tr>\n",
       "  <th>mobile_number</th>         <td>    0.0029</td> <td>    0.030</td> <td>    0.097</td> <td> 0.923</td> <td>   -0.055</td> <td>    0.061</td>\n",
       "</tr>\n",
       "<tr>\n",
       "  <th>arpu_8</th>                <td>   -0.3302</td> <td>    0.169</td> <td>   -1.948</td> <td> 0.051</td> <td>   -0.662</td> <td>    0.002</td>\n",
       "</tr>\n",
       "<tr>\n",
       "  <th>onnet_mou_8</th>           <td>    0.8875</td> <td>    0.129</td> <td>    6.858</td> <td> 0.000</td> <td>    0.634</td> <td>    1.141</td>\n",
       "</tr>\n",
       "<tr>\n",
       "  <th>offnet_mou_8</th>          <td>    0.6802</td> <td>    0.147</td> <td>    4.641</td> <td> 0.000</td> <td>    0.393</td> <td>    0.968</td>\n",
       "</tr>\n",
       "<tr>\n",
       "  <th>total_og_mou_8</th>        <td>   -1.6952</td> <td>    0.178</td> <td>   -9.535</td> <td> 0.000</td> <td>   -2.044</td> <td>   -1.347</td>\n",
       "</tr>\n",
       "<tr>\n",
       "  <th>total_ic_mou_8</th>        <td>   -2.1930</td> <td>    0.129</td> <td>  -17.058</td> <td> 0.000</td> <td>   -2.445</td> <td>   -1.941</td>\n",
       "</tr>\n",
       "<tr>\n",
       "  <th>total_rech_num_8</th>      <td>   -0.4370</td> <td>    0.077</td> <td>   -5.707</td> <td> 0.000</td> <td>   -0.587</td> <td>   -0.287</td>\n",
       "</tr>\n",
       "<tr>\n",
       "  <th>total_rech_amt_8</th>      <td>   -0.2086</td> <td>    0.155</td> <td>   -1.345</td> <td> 0.179</td> <td>   -0.513</td> <td>    0.095</td>\n",
       "</tr>\n",
       "<tr>\n",
       "  <th>max_rech_amt_8</th>        <td>    0.0661</td> <td>    0.062</td> <td>    1.073</td> <td> 0.283</td> <td>   -0.055</td> <td>    0.187</td>\n",
       "</tr>\n",
       "<tr>\n",
       "  <th>last_day_rch_amt_8</th>    <td>   -0.4009</td> <td>    0.060</td> <td>   -6.729</td> <td> 0.000</td> <td>   -0.518</td> <td>   -0.284</td>\n",
       "</tr>\n",
       "<tr>\n",
       "  <th>vol_2g_mb_8</th>           <td>   -0.6152</td> <td>    0.113</td> <td>   -5.442</td> <td> 0.000</td> <td>   -0.837</td> <td>   -0.394</td>\n",
       "</tr>\n",
       "<tr>\n",
       "  <th>vol_3g_mb_8</th>           <td>   -0.0268</td> <td>    0.090</td> <td>   -0.299</td> <td> 0.765</td> <td>   -0.202</td> <td>    0.149</td>\n",
       "</tr>\n",
       "<tr>\n",
       "  <th>monthly_2g_8</th>          <td>   -0.4215</td> <td>    0.079</td> <td>   -5.304</td> <td> 0.000</td> <td>   -0.577</td> <td>   -0.266</td>\n",
       "</tr>\n",
       "<tr>\n",
       "  <th>sachet_2g_8</th>           <td>   -0.6985</td> <td>    0.093</td> <td>   -7.528</td> <td> 0.000</td> <td>   -0.880</td> <td>   -0.517</td>\n",
       "</tr>\n",
       "<tr>\n",
       "  <th>monthly_3g_8</th>          <td>   -0.3324</td> <td>    0.088</td> <td>   -3.789</td> <td> 0.000</td> <td>   -0.504</td> <td>   -0.160</td>\n",
       "</tr>\n",
       "<tr>\n",
       "  <th>sachet_3g_8</th>           <td>   -0.2778</td> <td>    0.090</td> <td>   -3.093</td> <td> 0.002</td> <td>   -0.454</td> <td>   -0.102</td>\n",
       "</tr>\n",
       "<tr>\n",
       "  <th>aon</th>                   <td>   -0.2492</td> <td>    0.040</td> <td>   -6.288</td> <td> 0.000</td> <td>   -0.327</td> <td>   -0.172</td>\n",
       "</tr>\n",
       "<tr>\n",
       "  <th>aug_vbc_3g</th>            <td>   -0.2650</td> <td>    0.088</td> <td>   -3.013</td> <td> 0.003</td> <td>   -0.437</td> <td>   -0.093</td>\n",
       "</tr>\n",
       "<tr>\n",
       "  <th>sep_vbc_3g</th>            <td>   -1.0558</td> <td>    0.281</td> <td>   -3.760</td> <td> 0.000</td> <td>   -1.606</td> <td>   -0.505</td>\n",
       "</tr>\n",
       "<tr>\n",
       "  <th>monthly_2g_good</th>       <td>   -0.2119</td> <td>    0.054</td> <td>   -3.940</td> <td> 0.000</td> <td>   -0.317</td> <td>   -0.106</td>\n",
       "</tr>\n",
       "<tr>\n",
       "  <th>monthly_3g_good</th>       <td>   -0.0503</td> <td>    0.060</td> <td>   -0.845</td> <td> 0.398</td> <td>   -0.167</td> <td>    0.066</td>\n",
       "</tr>\n",
       "<tr>\n",
       "  <th>sachet_2g_good</th>        <td>    0.0809</td> <td>    0.046</td> <td>    1.777</td> <td> 0.076</td> <td>   -0.008</td> <td>    0.170</td>\n",
       "</tr>\n",
       "<tr>\n",
       "  <th>sachet_3g_good</th>        <td>    0.1514</td> <td>    0.044</td> <td>    3.425</td> <td> 0.001</td> <td>    0.065</td> <td>    0.238</td>\n",
       "</tr>\n",
       "<tr>\n",
       "  <th>vbc_good</th>              <td>    0.0859</td> <td>    0.060</td> <td>    1.428</td> <td> 0.153</td> <td>   -0.032</td> <td>    0.204</td>\n",
       "</tr>\n",
       "<tr>\n",
       "  <th>total_rech_num_good</th>   <td>    0.0603</td> <td>    0.047</td> <td>    1.285</td> <td> 0.199</td> <td>   -0.032</td> <td>    0.152</td>\n",
       "</tr>\n",
       "<tr>\n",
       "  <th>total_rech_amt_good</th>   <td>   -0.1301</td> <td>    0.170</td> <td>   -0.767</td> <td> 0.443</td> <td>   -0.463</td> <td>    0.202</td>\n",
       "</tr>\n",
       "<tr>\n",
       "  <th>max_rech_amt_good</th>     <td>    0.1056</td> <td>    0.053</td> <td>    1.976</td> <td> 0.048</td> <td>    0.001</td> <td>    0.210</td>\n",
       "</tr>\n",
       "<tr>\n",
       "  <th>last_day_rch_amt_good</th> <td>   -0.0264</td> <td>    0.043</td> <td>   -0.613</td> <td> 0.540</td> <td>   -0.111</td> <td>    0.058</td>\n",
       "</tr>\n",
       "<tr>\n",
       "  <th>arpu_good</th>             <td>    0.7085</td> <td>    0.159</td> <td>    4.442</td> <td> 0.000</td> <td>    0.396</td> <td>    1.021</td>\n",
       "</tr>\n",
       "<tr>\n",
       "  <th>onnet_mou_good</th>        <td>   -0.1227</td> <td>    0.112</td> <td>   -1.100</td> <td> 0.271</td> <td>   -0.341</td> <td>    0.096</td>\n",
       "</tr>\n",
       "<tr>\n",
       "  <th>offnet_mou_good</th>       <td>   -0.0646</td> <td>    0.116</td> <td>   -0.555</td> <td> 0.579</td> <td>   -0.293</td> <td>    0.164</td>\n",
       "</tr>\n",
       "<tr>\n",
       "  <th>total_og_mou_good</th>     <td>    0.1948</td> <td>    0.153</td> <td>    1.276</td> <td> 0.202</td> <td>   -0.104</td> <td>    0.494</td>\n",
       "</tr>\n",
       "<tr>\n",
       "  <th>total_ic_mou_good</th>     <td>    0.4363</td> <td>    0.053</td> <td>    8.202</td> <td> 0.000</td> <td>    0.332</td> <td>    0.541</td>\n",
       "</tr>\n",
       "<tr>\n",
       "  <th>vol_2g_mb_good</th>        <td>    0.1610</td> <td>    0.045</td> <td>    3.615</td> <td> 0.000</td> <td>    0.074</td> <td>    0.248</td>\n",
       "</tr>\n",
       "<tr>\n",
       "  <th>vol_3g_mb_good</th>        <td>   -0.0639</td> <td>    0.071</td> <td>   -0.898</td> <td> 0.369</td> <td>   -0.203</td> <td>    0.076</td>\n",
       "</tr>\n",
       "</table>"
      ],
      "text/plain": [
       "<class 'statsmodels.iolib.summary.Summary'>\n",
       "\"\"\"\n",
       "                 Generalized Linear Model Regression Results                  \n",
       "==============================================================================\n",
       "Dep. Variable:                  churn   No. Observations:                21000\n",
       "Model:                            GLM   Df Residuals:                    20964\n",
       "Model Family:                Binomial   Df Model:                           35\n",
       "Link Function:                  logit   Scale:                          1.0000\n",
       "Method:                          IRLS   Log-Likelihood:                -3930.0\n",
       "Date:                Mon, 04 Nov 2019   Deviance:                       7860.1\n",
       "Time:                        21:35:35   Pearson chi2:                 4.41e+06\n",
       "No. Iterations:                    10                                         \n",
       "Covariance Type:            nonrobust                                         \n",
       "=========================================================================================\n",
       "                            coef    std err          z      P>|z|      [0.025      0.975]\n",
       "-----------------------------------------------------------------------------------------\n",
       "const                    -4.2576      0.081    -52.364      0.000      -4.417      -4.098\n",
       "mobile_number             0.0029      0.030      0.097      0.923      -0.055       0.061\n",
       "arpu_8                   -0.3302      0.169     -1.948      0.051      -0.662       0.002\n",
       "onnet_mou_8               0.8875      0.129      6.858      0.000       0.634       1.141\n",
       "offnet_mou_8              0.6802      0.147      4.641      0.000       0.393       0.968\n",
       "total_og_mou_8           -1.6952      0.178     -9.535      0.000      -2.044      -1.347\n",
       "total_ic_mou_8           -2.1930      0.129    -17.058      0.000      -2.445      -1.941\n",
       "total_rech_num_8         -0.4370      0.077     -5.707      0.000      -0.587      -0.287\n",
       "total_rech_amt_8         -0.2086      0.155     -1.345      0.179      -0.513       0.095\n",
       "max_rech_amt_8            0.0661      0.062      1.073      0.283      -0.055       0.187\n",
       "last_day_rch_amt_8       -0.4009      0.060     -6.729      0.000      -0.518      -0.284\n",
       "vol_2g_mb_8              -0.6152      0.113     -5.442      0.000      -0.837      -0.394\n",
       "vol_3g_mb_8              -0.0268      0.090     -0.299      0.765      -0.202       0.149\n",
       "monthly_2g_8             -0.4215      0.079     -5.304      0.000      -0.577      -0.266\n",
       "sachet_2g_8              -0.6985      0.093     -7.528      0.000      -0.880      -0.517\n",
       "monthly_3g_8             -0.3324      0.088     -3.789      0.000      -0.504      -0.160\n",
       "sachet_3g_8              -0.2778      0.090     -3.093      0.002      -0.454      -0.102\n",
       "aon                      -0.2492      0.040     -6.288      0.000      -0.327      -0.172\n",
       "aug_vbc_3g               -0.2650      0.088     -3.013      0.003      -0.437      -0.093\n",
       "sep_vbc_3g               -1.0558      0.281     -3.760      0.000      -1.606      -0.505\n",
       "monthly_2g_good          -0.2119      0.054     -3.940      0.000      -0.317      -0.106\n",
       "monthly_3g_good          -0.0503      0.060     -0.845      0.398      -0.167       0.066\n",
       "sachet_2g_good            0.0809      0.046      1.777      0.076      -0.008       0.170\n",
       "sachet_3g_good            0.1514      0.044      3.425      0.001       0.065       0.238\n",
       "vbc_good                  0.0859      0.060      1.428      0.153      -0.032       0.204\n",
       "total_rech_num_good       0.0603      0.047      1.285      0.199      -0.032       0.152\n",
       "total_rech_amt_good      -0.1301      0.170     -0.767      0.443      -0.463       0.202\n",
       "max_rech_amt_good         0.1056      0.053      1.976      0.048       0.001       0.210\n",
       "last_day_rch_amt_good    -0.0264      0.043     -0.613      0.540      -0.111       0.058\n",
       "arpu_good                 0.7085      0.159      4.442      0.000       0.396       1.021\n",
       "onnet_mou_good           -0.1227      0.112     -1.100      0.271      -0.341       0.096\n",
       "offnet_mou_good          -0.0646      0.116     -0.555      0.579      -0.293       0.164\n",
       "total_og_mou_good         0.1948      0.153      1.276      0.202      -0.104       0.494\n",
       "total_ic_mou_good         0.4363      0.053      8.202      0.000       0.332       0.541\n",
       "vol_2g_mb_good            0.1610      0.045      3.615      0.000       0.074       0.248\n",
       "vol_3g_mb_good           -0.0639      0.071     -0.898      0.369      -0.203       0.076\n",
       "=========================================================================================\n",
       "\"\"\""
      ]
     },
     "execution_count": 145,
     "metadata": {},
     "output_type": "execute_result"
    }
   ],
   "source": [
    "#import libraries\n",
    "import statsmodels.api as sm\n",
    "\n",
    "# Logistic regression model\n",
    "logm1 = sm.GLM(y_train,(sm.add_constant(X_train)), family = sm.families.Binomial())\n",
    "logm1.fit().summary()"
   ]
  },
  {
   "cell_type": "markdown",
   "metadata": {},
   "source": [
    "####  Feature Selection Using RFE"
   ]
  },
  {
   "cell_type": "code",
   "execution_count": 146,
   "metadata": {},
   "outputs": [],
   "source": [
    "from sklearn.linear_model import LogisticRegression\n",
    "logreg = LogisticRegression()"
   ]
  },
  {
   "cell_type": "code",
   "execution_count": 147,
   "metadata": {},
   "outputs": [],
   "source": [
    "from sklearn.feature_selection import RFE\n",
    "\n",
    "# Since from the PCA analysis we observed that 20 variables explains 90% of the variance\n",
    "# running RFE with 20 variables as output\n",
    "\n",
    "rfe = RFE(logreg, 20)             \n",
    "rfe = rfe.fit(X_train, y_train)"
   ]
  },
  {
   "cell_type": "code",
   "execution_count": 148,
   "metadata": {},
   "outputs": [
    {
     "data": {
      "text/plain": [
       "array([False,  True,  True,  True,  True,  True,  True,  True, False,\n",
       "        True,  True, False,  True,  True,  True,  True,  True,  True,\n",
       "        True,  True, False, False, False, False, False, False, False,\n",
       "       False,  True, False, False, False,  True,  True, False])"
      ]
     },
     "execution_count": 148,
     "metadata": {},
     "output_type": "execute_result"
    }
   ],
   "source": [
    "rfe.support_"
   ]
  },
  {
   "cell_type": "code",
   "execution_count": 149,
   "metadata": {},
   "outputs": [],
   "source": [
    "col = X_train.columns[rfe.support_]"
   ]
  },
  {
   "cell_type": "code",
   "execution_count": 150,
   "metadata": {},
   "outputs": [
    {
     "data": {
      "text/plain": [
       "Index(['arpu_8', 'onnet_mou_8', 'offnet_mou_8', 'total_og_mou_8',\n",
       "       'total_ic_mou_8', 'total_rech_num_8', 'total_rech_amt_8',\n",
       "       'last_day_rch_amt_8', 'vol_2g_mb_8', 'monthly_2g_8', 'sachet_2g_8',\n",
       "       'monthly_3g_8', 'sachet_3g_8', 'aon', 'aug_vbc_3g', 'sep_vbc_3g',\n",
       "       'monthly_2g_good', 'arpu_good', 'total_ic_mou_good', 'vol_2g_mb_good'],\n",
       "      dtype='object')"
      ]
     },
     "execution_count": 150,
     "metadata": {},
     "output_type": "execute_result"
    }
   ],
   "source": [
    "col"
   ]
  },
  {
   "cell_type": "markdown",
   "metadata": {},
   "source": [
    "### Assessing the model using StatsModels library"
   ]
  },
  {
   "cell_type": "code",
   "execution_count": 151,
   "metadata": {},
   "outputs": [
    {
     "data": {
      "text/html": [
       "<table class=\"simpletable\">\n",
       "<caption>Generalized Linear Model Regression Results</caption>\n",
       "<tr>\n",
       "  <th>Dep. Variable:</th>         <td>churn</td>      <th>  No. Observations:  </th>  <td> 21000</td> \n",
       "</tr>\n",
       "<tr>\n",
       "  <th>Model:</th>                  <td>GLM</td>       <th>  Df Residuals:      </th>  <td> 20979</td> \n",
       "</tr>\n",
       "<tr>\n",
       "  <th>Model Family:</th>        <td>Binomial</td>     <th>  Df Model:          </th>  <td>    20</td> \n",
       "</tr>\n",
       "<tr>\n",
       "  <th>Link Function:</th>         <td>logit</td>      <th>  Scale:             </th> <td>  1.0000</td>\n",
       "</tr>\n",
       "<tr>\n",
       "  <th>Method:</th>                <td>IRLS</td>       <th>  Log-Likelihood:    </th> <td> -3947.5</td>\n",
       "</tr>\n",
       "<tr>\n",
       "  <th>Date:</th>            <td>Mon, 04 Nov 2019</td> <th>  Deviance:          </th> <td>  7895.0</td>\n",
       "</tr>\n",
       "<tr>\n",
       "  <th>Time:</th>                <td>21:35:38</td>     <th>  Pearson chi2:      </th> <td>3.82e+06</td>\n",
       "</tr>\n",
       "<tr>\n",
       "  <th>No. Iterations:</th>         <td>10</td>        <th>                     </th>     <td> </td>   \n",
       "</tr>\n",
       "<tr>\n",
       "  <th>Covariance Type:</th>     <td>nonrobust</td>    <th>                     </th>     <td> </td>   \n",
       "</tr>\n",
       "</table>\n",
       "<table class=\"simpletable\">\n",
       "<tr>\n",
       "           <td></td>             <th>coef</th>     <th>std err</th>      <th>z</th>      <th>P>|z|</th>  <th>[0.025</th>    <th>0.975]</th>  \n",
       "</tr>\n",
       "<tr>\n",
       "  <th>const</th>              <td>   -4.2407</td> <td>    0.080</td> <td>  -53.193</td> <td> 0.000</td> <td>   -4.397</td> <td>   -4.084</td>\n",
       "</tr>\n",
       "<tr>\n",
       "  <th>arpu_8</th>             <td>   -0.3189</td> <td>    0.148</td> <td>   -2.149</td> <td> 0.032</td> <td>   -0.610</td> <td>   -0.028</td>\n",
       "</tr>\n",
       "<tr>\n",
       "  <th>onnet_mou_8</th>        <td>    0.8485</td> <td>    0.105</td> <td>    8.107</td> <td> 0.000</td> <td>    0.643</td> <td>    1.054</td>\n",
       "</tr>\n",
       "<tr>\n",
       "  <th>offnet_mou_8</th>       <td>    0.7097</td> <td>    0.116</td> <td>    6.139</td> <td> 0.000</td> <td>    0.483</td> <td>    0.936</td>\n",
       "</tr>\n",
       "<tr>\n",
       "  <th>total_og_mou_8</th>     <td>   -1.6360</td> <td>    0.151</td> <td>  -10.816</td> <td> 0.000</td> <td>   -1.932</td> <td>   -1.340</td>\n",
       "</tr>\n",
       "<tr>\n",
       "  <th>total_ic_mou_8</th>     <td>   -2.2176</td> <td>    0.126</td> <td>  -17.567</td> <td> 0.000</td> <td>   -2.465</td> <td>   -1.970</td>\n",
       "</tr>\n",
       "<tr>\n",
       "  <th>total_rech_num_8</th>   <td>   -0.4217</td> <td>    0.061</td> <td>   -6.864</td> <td> 0.000</td> <td>   -0.542</td> <td>   -0.301</td>\n",
       "</tr>\n",
       "<tr>\n",
       "  <th>total_rech_amt_8</th>   <td>   -0.2629</td> <td>    0.133</td> <td>   -1.983</td> <td> 0.047</td> <td>   -0.523</td> <td>   -0.003</td>\n",
       "</tr>\n",
       "<tr>\n",
       "  <th>last_day_rch_amt_8</th> <td>   -0.3699</td> <td>    0.055</td> <td>   -6.727</td> <td> 0.000</td> <td>   -0.478</td> <td>   -0.262</td>\n",
       "</tr>\n",
       "<tr>\n",
       "  <th>vol_2g_mb_8</th>        <td>   -0.6187</td> <td>    0.111</td> <td>   -5.566</td> <td> 0.000</td> <td>   -0.837</td> <td>   -0.401</td>\n",
       "</tr>\n",
       "<tr>\n",
       "  <th>monthly_2g_8</th>       <td>   -0.4147</td> <td>    0.077</td> <td>   -5.406</td> <td> 0.000</td> <td>   -0.565</td> <td>   -0.264</td>\n",
       "</tr>\n",
       "<tr>\n",
       "  <th>sachet_2g_8</th>        <td>   -0.6355</td> <td>    0.083</td> <td>   -7.701</td> <td> 0.000</td> <td>   -0.797</td> <td>   -0.474</td>\n",
       "</tr>\n",
       "<tr>\n",
       "  <th>monthly_3g_8</th>       <td>   -0.3918</td> <td>    0.066</td> <td>   -5.956</td> <td> 0.000</td> <td>   -0.521</td> <td>   -0.263</td>\n",
       "</tr>\n",
       "<tr>\n",
       "  <th>sachet_3g_8</th>        <td>   -0.1289</td> <td>    0.068</td> <td>   -1.885</td> <td> 0.059</td> <td>   -0.263</td> <td>    0.005</td>\n",
       "</tr>\n",
       "<tr>\n",
       "  <th>aon</th>                <td>   -0.2516</td> <td>    0.038</td> <td>   -6.666</td> <td> 0.000</td> <td>   -0.326</td> <td>   -0.178</td>\n",
       "</tr>\n",
       "<tr>\n",
       "  <th>aug_vbc_3g</th>         <td>   -0.2195</td> <td>    0.073</td> <td>   -3.016</td> <td> 0.003</td> <td>   -0.362</td> <td>   -0.077</td>\n",
       "</tr>\n",
       "<tr>\n",
       "  <th>sep_vbc_3g</th>         <td>   -1.0139</td> <td>    0.278</td> <td>   -3.647</td> <td> 0.000</td> <td>   -1.559</td> <td>   -0.469</td>\n",
       "</tr>\n",
       "<tr>\n",
       "  <th>monthly_2g_good</th>    <td>   -0.2389</td> <td>    0.050</td> <td>   -4.778</td> <td> 0.000</td> <td>   -0.337</td> <td>   -0.141</td>\n",
       "</tr>\n",
       "<tr>\n",
       "  <th>arpu_good</th>          <td>    0.6590</td> <td>    0.047</td> <td>   14.163</td> <td> 0.000</td> <td>    0.568</td> <td>    0.750</td>\n",
       "</tr>\n",
       "<tr>\n",
       "  <th>total_ic_mou_good</th>  <td>    0.4610</td> <td>    0.052</td> <td>    8.872</td> <td> 0.000</td> <td>    0.359</td> <td>    0.563</td>\n",
       "</tr>\n",
       "<tr>\n",
       "  <th>vol_2g_mb_good</th>     <td>    0.1897</td> <td>    0.041</td> <td>    4.674</td> <td> 0.000</td> <td>    0.110</td> <td>    0.269</td>\n",
       "</tr>\n",
       "</table>"
      ],
      "text/plain": [
       "<class 'statsmodels.iolib.summary.Summary'>\n",
       "\"\"\"\n",
       "                 Generalized Linear Model Regression Results                  \n",
       "==============================================================================\n",
       "Dep. Variable:                  churn   No. Observations:                21000\n",
       "Model:                            GLM   Df Residuals:                    20979\n",
       "Model Family:                Binomial   Df Model:                           20\n",
       "Link Function:                  logit   Scale:                          1.0000\n",
       "Method:                          IRLS   Log-Likelihood:                -3947.5\n",
       "Date:                Mon, 04 Nov 2019   Deviance:                       7895.0\n",
       "Time:                        21:35:38   Pearson chi2:                 3.82e+06\n",
       "No. Iterations:                    10                                         \n",
       "Covariance Type:            nonrobust                                         \n",
       "======================================================================================\n",
       "                         coef    std err          z      P>|z|      [0.025      0.975]\n",
       "--------------------------------------------------------------------------------------\n",
       "const                 -4.2407      0.080    -53.193      0.000      -4.397      -4.084\n",
       "arpu_8                -0.3189      0.148     -2.149      0.032      -0.610      -0.028\n",
       "onnet_mou_8            0.8485      0.105      8.107      0.000       0.643       1.054\n",
       "offnet_mou_8           0.7097      0.116      6.139      0.000       0.483       0.936\n",
       "total_og_mou_8        -1.6360      0.151    -10.816      0.000      -1.932      -1.340\n",
       "total_ic_mou_8        -2.2176      0.126    -17.567      0.000      -2.465      -1.970\n",
       "total_rech_num_8      -0.4217      0.061     -6.864      0.000      -0.542      -0.301\n",
       "total_rech_amt_8      -0.2629      0.133     -1.983      0.047      -0.523      -0.003\n",
       "last_day_rch_amt_8    -0.3699      0.055     -6.727      0.000      -0.478      -0.262\n",
       "vol_2g_mb_8           -0.6187      0.111     -5.566      0.000      -0.837      -0.401\n",
       "monthly_2g_8          -0.4147      0.077     -5.406      0.000      -0.565      -0.264\n",
       "sachet_2g_8           -0.6355      0.083     -7.701      0.000      -0.797      -0.474\n",
       "monthly_3g_8          -0.3918      0.066     -5.956      0.000      -0.521      -0.263\n",
       "sachet_3g_8           -0.1289      0.068     -1.885      0.059      -0.263       0.005\n",
       "aon                   -0.2516      0.038     -6.666      0.000      -0.326      -0.178\n",
       "aug_vbc_3g            -0.2195      0.073     -3.016      0.003      -0.362      -0.077\n",
       "sep_vbc_3g            -1.0139      0.278     -3.647      0.000      -1.559      -0.469\n",
       "monthly_2g_good       -0.2389      0.050     -4.778      0.000      -0.337      -0.141\n",
       "arpu_good              0.6590      0.047     14.163      0.000       0.568       0.750\n",
       "total_ic_mou_good      0.4610      0.052      8.872      0.000       0.359       0.563\n",
       "vol_2g_mb_good         0.1897      0.041      4.674      0.000       0.110       0.269\n",
       "======================================================================================\n",
       "\"\"\""
      ]
     },
     "execution_count": 151,
     "metadata": {},
     "output_type": "execute_result"
    }
   ],
   "source": [
    "X_train_sm = sm.add_constant(X_train[col])\n",
    "logm2 = sm.GLM(y_train,X_train_sm, family = sm.families.Binomial())\n",
    "res = logm2.fit()\n",
    "res.summary()"
   ]
  },
  {
   "cell_type": "code",
   "execution_count": 152,
   "metadata": {},
   "outputs": [],
   "source": [
    "# Check for the VIF values of the feature variables to check for multicollinearity. \n",
    "# importing VIF\n",
    "\n",
    "from statsmodels.stats.outliers_influence import variance_inflation_factor"
   ]
  },
  {
   "cell_type": "code",
   "execution_count": 153,
   "metadata": {},
   "outputs": [
    {
     "data": {
      "text/html": [
       "<div>\n",
       "<style scoped>\n",
       "    .dataframe tbody tr th:only-of-type {\n",
       "        vertical-align: middle;\n",
       "    }\n",
       "\n",
       "    .dataframe tbody tr th {\n",
       "        vertical-align: top;\n",
       "    }\n",
       "\n",
       "    .dataframe thead th {\n",
       "        text-align: right;\n",
       "    }\n",
       "</style>\n",
       "<table border=\"1\" class=\"dataframe\">\n",
       "  <thead>\n",
       "    <tr style=\"text-align: right;\">\n",
       "      <th></th>\n",
       "      <th>Features</th>\n",
       "      <th>VIF</th>\n",
       "    </tr>\n",
       "  </thead>\n",
       "  <tbody>\n",
       "    <tr>\n",
       "      <th>3</th>\n",
       "      <td>total_og_mou_8</td>\n",
       "      <td>50.25</td>\n",
       "    </tr>\n",
       "    <tr>\n",
       "      <th>2</th>\n",
       "      <td>offnet_mou_8</td>\n",
       "      <td>24.88</td>\n",
       "    </tr>\n",
       "    <tr>\n",
       "      <th>1</th>\n",
       "      <td>onnet_mou_8</td>\n",
       "      <td>22.10</td>\n",
       "    </tr>\n",
       "    <tr>\n",
       "      <th>6</th>\n",
       "      <td>total_rech_amt_8</td>\n",
       "      <td>14.58</td>\n",
       "    </tr>\n",
       "    <tr>\n",
       "      <th>0</th>\n",
       "      <td>arpu_8</td>\n",
       "      <td>14.47</td>\n",
       "    </tr>\n",
       "    <tr>\n",
       "      <th>4</th>\n",
       "      <td>total_ic_mou_8</td>\n",
       "      <td>3.11</td>\n",
       "    </tr>\n",
       "    <tr>\n",
       "      <th>18</th>\n",
       "      <td>total_ic_mou_good</td>\n",
       "      <td>3.02</td>\n",
       "    </tr>\n",
       "    <tr>\n",
       "      <th>17</th>\n",
       "      <td>arpu_good</td>\n",
       "      <td>2.98</td>\n",
       "    </tr>\n",
       "    <tr>\n",
       "      <th>8</th>\n",
       "      <td>vol_2g_mb_8</td>\n",
       "      <td>1.90</td>\n",
       "    </tr>\n",
       "    <tr>\n",
       "      <th>19</th>\n",
       "      <td>vol_2g_mb_good</td>\n",
       "      <td>1.88</td>\n",
       "    </tr>\n",
       "    <tr>\n",
       "      <th>9</th>\n",
       "      <td>monthly_2g_8</td>\n",
       "      <td>1.81</td>\n",
       "    </tr>\n",
       "    <tr>\n",
       "      <th>16</th>\n",
       "      <td>monthly_2g_good</td>\n",
       "      <td>1.78</td>\n",
       "    </tr>\n",
       "    <tr>\n",
       "      <th>5</th>\n",
       "      <td>total_rech_num_8</td>\n",
       "      <td>1.71</td>\n",
       "    </tr>\n",
       "    <tr>\n",
       "      <th>11</th>\n",
       "      <td>monthly_3g_8</td>\n",
       "      <td>1.46</td>\n",
       "    </tr>\n",
       "    <tr>\n",
       "      <th>14</th>\n",
       "      <td>aug_vbc_3g</td>\n",
       "      <td>1.43</td>\n",
       "    </tr>\n",
       "    <tr>\n",
       "      <th>7</th>\n",
       "      <td>last_day_rch_amt_8</td>\n",
       "      <td>1.42</td>\n",
       "    </tr>\n",
       "    <tr>\n",
       "      <th>10</th>\n",
       "      <td>sachet_2g_8</td>\n",
       "      <td>1.42</td>\n",
       "    </tr>\n",
       "    <tr>\n",
       "      <th>12</th>\n",
       "      <td>sachet_3g_8</td>\n",
       "      <td>1.10</td>\n",
       "    </tr>\n",
       "    <tr>\n",
       "      <th>13</th>\n",
       "      <td>aon</td>\n",
       "      <td>1.07</td>\n",
       "    </tr>\n",
       "    <tr>\n",
       "      <th>15</th>\n",
       "      <td>sep_vbc_3g</td>\n",
       "      <td>1.05</td>\n",
       "    </tr>\n",
       "  </tbody>\n",
       "</table>\n",
       "</div>"
      ],
      "text/plain": [
       "              Features    VIF\n",
       "3       total_og_mou_8  50.25\n",
       "2         offnet_mou_8  24.88\n",
       "1          onnet_mou_8  22.10\n",
       "6     total_rech_amt_8  14.58\n",
       "0               arpu_8  14.47\n",
       "4       total_ic_mou_8   3.11\n",
       "18   total_ic_mou_good   3.02\n",
       "17           arpu_good   2.98\n",
       "8          vol_2g_mb_8   1.90\n",
       "19      vol_2g_mb_good   1.88\n",
       "9         monthly_2g_8   1.81\n",
       "16     monthly_2g_good   1.78\n",
       "5     total_rech_num_8   1.71\n",
       "11        monthly_3g_8   1.46\n",
       "14          aug_vbc_3g   1.43\n",
       "7   last_day_rch_amt_8   1.42\n",
       "10         sachet_2g_8   1.42\n",
       "12         sachet_3g_8   1.10\n",
       "13                 aon   1.07\n",
       "15          sep_vbc_3g   1.05"
      ]
     },
     "execution_count": 153,
     "metadata": {},
     "output_type": "execute_result"
    }
   ],
   "source": [
    "# Create a dataframe that will contain the names of all the feature variables and their respective VIFs\n",
    "\n",
    "Vif_m = pd.DataFrame()\n",
    "Vif_m['Features'] = X_train[col].columns\n",
    "Vif_m['VIF'] = [variance_inflation_factor(X_train[col].values, i) for i in range(X_train[col].shape[1])]\n",
    "Vif_m['VIF'] = round(Vif_m['VIF'], 2)\n",
    "Vif_m = Vif_m.sort_values(by = \"VIF\", ascending = False)\n",
    "Vif_m"
   ]
  },
  {
   "cell_type": "code",
   "execution_count": 154,
   "metadata": {},
   "outputs": [],
   "source": [
    "# Variables with high value of VIF indicates multicollinearity. Hence, we drop them to reduce model complexity."
   ]
  },
  {
   "cell_type": "code",
   "execution_count": 155,
   "metadata": {},
   "outputs": [],
   "source": [
    "col_names=['arpu_8', 'onnet_mou_8', 'offnet_mou_8',\n",
    "       'total_ic_mou_8', 'total_rech_num_8', 'total_rech_amt_8',\n",
    "       'last_day_rch_amt_8', 'vol_2g_mb_8', 'monthly_2g_8', 'sachet_2g_8',\n",
    "       'monthly_3g_8', 'sachet_3g_8', 'aon', 'aug_vbc_3g', 'sep_vbc_3g',\n",
    "       'monthly_2g_good', 'arpu_good', 'total_ic_mou_good', 'vol_2g_mb_good']"
   ]
  },
  {
   "cell_type": "code",
   "execution_count": 156,
   "metadata": {},
   "outputs": [
    {
     "data": {
      "text/html": [
       "<table class=\"simpletable\">\n",
       "<caption>Generalized Linear Model Regression Results</caption>\n",
       "<tr>\n",
       "  <th>Dep. Variable:</th>         <td>churn</td>      <th>  No. Observations:  </th>  <td> 21000</td> \n",
       "</tr>\n",
       "<tr>\n",
       "  <th>Model:</th>                  <td>GLM</td>       <th>  Df Residuals:      </th>  <td> 20980</td> \n",
       "</tr>\n",
       "<tr>\n",
       "  <th>Model Family:</th>        <td>Binomial</td>     <th>  Df Model:          </th>  <td>    19</td> \n",
       "</tr>\n",
       "<tr>\n",
       "  <th>Link Function:</th>         <td>logit</td>      <th>  Scale:             </th> <td>  1.0000</td>\n",
       "</tr>\n",
       "<tr>\n",
       "  <th>Method:</th>                <td>IRLS</td>       <th>  Log-Likelihood:    </th> <td> -3990.8</td>\n",
       "</tr>\n",
       "<tr>\n",
       "  <th>Date:</th>            <td>Mon, 04 Nov 2019</td> <th>  Deviance:          </th> <td>  7981.6</td>\n",
       "</tr>\n",
       "<tr>\n",
       "  <th>Time:</th>                <td>21:35:39</td>     <th>  Pearson chi2:      </th> <td>7.12e+06</td>\n",
       "</tr>\n",
       "<tr>\n",
       "  <th>No. Iterations:</th>         <td>10</td>        <th>                     </th>     <td> </td>   \n",
       "</tr>\n",
       "<tr>\n",
       "  <th>Covariance Type:</th>     <td>nonrobust</td>    <th>                     </th>     <td> </td>   \n",
       "</tr>\n",
       "</table>\n",
       "<table class=\"simpletable\">\n",
       "<tr>\n",
       "           <td></td>             <th>coef</th>     <th>std err</th>      <th>z</th>      <th>P>|z|</th>  <th>[0.025</th>    <th>0.975]</th>  \n",
       "</tr>\n",
       "<tr>\n",
       "  <th>const</th>              <td>   -4.2448</td> <td>    0.080</td> <td>  -52.890</td> <td> 0.000</td> <td>   -4.402</td> <td>   -4.088</td>\n",
       "</tr>\n",
       "<tr>\n",
       "  <th>arpu_8</th>             <td>   -0.2149</td> <td>    0.138</td> <td>   -1.558</td> <td> 0.119</td> <td>   -0.485</td> <td>    0.055</td>\n",
       "</tr>\n",
       "<tr>\n",
       "  <th>onnet_mou_8</th>        <td>   -0.1888</td> <td>    0.050</td> <td>   -3.748</td> <td> 0.000</td> <td>   -0.288</td> <td>   -0.090</td>\n",
       "</tr>\n",
       "<tr>\n",
       "  <th>offnet_mou_8</th>       <td>   -0.3322</td> <td>    0.064</td> <td>   -5.213</td> <td> 0.000</td> <td>   -0.457</td> <td>   -0.207</td>\n",
       "</tr>\n",
       "<tr>\n",
       "  <th>total_ic_mou_8</th>     <td>   -2.4559</td> <td>    0.126</td> <td>  -19.428</td> <td> 0.000</td> <td>   -2.704</td> <td>   -2.208</td>\n",
       "</tr>\n",
       "<tr>\n",
       "  <th>total_rech_num_8</th>   <td>   -0.4002</td> <td>    0.059</td> <td>   -6.764</td> <td> 0.000</td> <td>   -0.516</td> <td>   -0.284</td>\n",
       "</tr>\n",
       "<tr>\n",
       "  <th>total_rech_amt_8</th>   <td>   -0.3370</td> <td>    0.125</td> <td>   -2.700</td> <td> 0.007</td> <td>   -0.582</td> <td>   -0.092</td>\n",
       "</tr>\n",
       "<tr>\n",
       "  <th>last_day_rch_amt_8</th> <td>   -0.3024</td> <td>    0.054</td> <td>   -5.614</td> <td> 0.000</td> <td>   -0.408</td> <td>   -0.197</td>\n",
       "</tr>\n",
       "<tr>\n",
       "  <th>vol_2g_mb_8</th>        <td>   -0.6036</td> <td>    0.111</td> <td>   -5.441</td> <td> 0.000</td> <td>   -0.821</td> <td>   -0.386</td>\n",
       "</tr>\n",
       "<tr>\n",
       "  <th>monthly_2g_8</th>       <td>   -0.4240</td> <td>    0.077</td> <td>   -5.508</td> <td> 0.000</td> <td>   -0.575</td> <td>   -0.273</td>\n",
       "</tr>\n",
       "<tr>\n",
       "  <th>sachet_2g_8</th>        <td>   -0.6408</td> <td>    0.082</td> <td>   -7.810</td> <td> 0.000</td> <td>   -0.802</td> <td>   -0.480</td>\n",
       "</tr>\n",
       "<tr>\n",
       "  <th>monthly_3g_8</th>       <td>   -0.4142</td> <td>    0.066</td> <td>   -6.259</td> <td> 0.000</td> <td>   -0.544</td> <td>   -0.284</td>\n",
       "</tr>\n",
       "<tr>\n",
       "  <th>sachet_3g_8</th>        <td>   -0.1430</td> <td>    0.069</td> <td>   -2.081</td> <td> 0.037</td> <td>   -0.278</td> <td>   -0.008</td>\n",
       "</tr>\n",
       "<tr>\n",
       "  <th>aon</th>                <td>   -0.2343</td> <td>    0.038</td> <td>   -6.229</td> <td> 0.000</td> <td>   -0.308</td> <td>   -0.161</td>\n",
       "</tr>\n",
       "<tr>\n",
       "  <th>aug_vbc_3g</th>         <td>   -0.2062</td> <td>    0.074</td> <td>   -2.773</td> <td> 0.006</td> <td>   -0.352</td> <td>   -0.060</td>\n",
       "</tr>\n",
       "<tr>\n",
       "  <th>sep_vbc_3g</th>         <td>   -0.9803</td> <td>    0.273</td> <td>   -3.596</td> <td> 0.000</td> <td>   -1.515</td> <td>   -0.446</td>\n",
       "</tr>\n",
       "<tr>\n",
       "  <th>monthly_2g_good</th>    <td>   -0.2414</td> <td>    0.050</td> <td>   -4.825</td> <td> 0.000</td> <td>   -0.339</td> <td>   -0.143</td>\n",
       "</tr>\n",
       "<tr>\n",
       "  <th>arpu_good</th>          <td>    0.6560</td> <td>    0.046</td> <td>   14.190</td> <td> 0.000</td> <td>    0.565</td> <td>    0.747</td>\n",
       "</tr>\n",
       "<tr>\n",
       "  <th>total_ic_mou_good</th>  <td>    0.5013</td> <td>    0.052</td> <td>    9.615</td> <td> 0.000</td> <td>    0.399</td> <td>    0.604</td>\n",
       "</tr>\n",
       "<tr>\n",
       "  <th>vol_2g_mb_good</th>     <td>    0.1885</td> <td>    0.040</td> <td>    4.661</td> <td> 0.000</td> <td>    0.109</td> <td>    0.268</td>\n",
       "</tr>\n",
       "</table>"
      ],
      "text/plain": [
       "<class 'statsmodels.iolib.summary.Summary'>\n",
       "\"\"\"\n",
       "                 Generalized Linear Model Regression Results                  \n",
       "==============================================================================\n",
       "Dep. Variable:                  churn   No. Observations:                21000\n",
       "Model:                            GLM   Df Residuals:                    20980\n",
       "Model Family:                Binomial   Df Model:                           19\n",
       "Link Function:                  logit   Scale:                          1.0000\n",
       "Method:                          IRLS   Log-Likelihood:                -3990.8\n",
       "Date:                Mon, 04 Nov 2019   Deviance:                       7981.6\n",
       "Time:                        21:35:39   Pearson chi2:                 7.12e+06\n",
       "No. Iterations:                    10                                         \n",
       "Covariance Type:            nonrobust                                         \n",
       "======================================================================================\n",
       "                         coef    std err          z      P>|z|      [0.025      0.975]\n",
       "--------------------------------------------------------------------------------------\n",
       "const                 -4.2448      0.080    -52.890      0.000      -4.402      -4.088\n",
       "arpu_8                -0.2149      0.138     -1.558      0.119      -0.485       0.055\n",
       "onnet_mou_8           -0.1888      0.050     -3.748      0.000      -0.288      -0.090\n",
       "offnet_mou_8          -0.3322      0.064     -5.213      0.000      -0.457      -0.207\n",
       "total_ic_mou_8        -2.4559      0.126    -19.428      0.000      -2.704      -2.208\n",
       "total_rech_num_8      -0.4002      0.059     -6.764      0.000      -0.516      -0.284\n",
       "total_rech_amt_8      -0.3370      0.125     -2.700      0.007      -0.582      -0.092\n",
       "last_day_rch_amt_8    -0.3024      0.054     -5.614      0.000      -0.408      -0.197\n",
       "vol_2g_mb_8           -0.6036      0.111     -5.441      0.000      -0.821      -0.386\n",
       "monthly_2g_8          -0.4240      0.077     -5.508      0.000      -0.575      -0.273\n",
       "sachet_2g_8           -0.6408      0.082     -7.810      0.000      -0.802      -0.480\n",
       "monthly_3g_8          -0.4142      0.066     -6.259      0.000      -0.544      -0.284\n",
       "sachet_3g_8           -0.1430      0.069     -2.081      0.037      -0.278      -0.008\n",
       "aon                   -0.2343      0.038     -6.229      0.000      -0.308      -0.161\n",
       "aug_vbc_3g            -0.2062      0.074     -2.773      0.006      -0.352      -0.060\n",
       "sep_vbc_3g            -0.9803      0.273     -3.596      0.000      -1.515      -0.446\n",
       "monthly_2g_good       -0.2414      0.050     -4.825      0.000      -0.339      -0.143\n",
       "arpu_good              0.6560      0.046     14.190      0.000       0.565       0.747\n",
       "total_ic_mou_good      0.5013      0.052      9.615      0.000       0.399       0.604\n",
       "vol_2g_mb_good         0.1885      0.040      4.661      0.000       0.109       0.268\n",
       "======================================================================================\n",
       "\"\"\""
      ]
     },
     "execution_count": 156,
     "metadata": {},
     "output_type": "execute_result"
    }
   ],
   "source": [
    "# Let's rebuild the model using the selected variables\n",
    "\n",
    "X_train_sm = sm.add_constant(X_train[col_names])\n",
    "logm3 = sm.GLM(y_train,X_train_sm, family = sm.families.Binomial())\n",
    "res = logm3.fit()\n",
    "res.summary()"
   ]
  },
  {
   "cell_type": "code",
   "execution_count": 157,
   "metadata": {},
   "outputs": [
    {
     "data": {
      "text/html": [
       "<div>\n",
       "<style scoped>\n",
       "    .dataframe tbody tr th:only-of-type {\n",
       "        vertical-align: middle;\n",
       "    }\n",
       "\n",
       "    .dataframe tbody tr th {\n",
       "        vertical-align: top;\n",
       "    }\n",
       "\n",
       "    .dataframe thead th {\n",
       "        text-align: right;\n",
       "    }\n",
       "</style>\n",
       "<table border=\"1\" class=\"dataframe\">\n",
       "  <thead>\n",
       "    <tr style=\"text-align: right;\">\n",
       "      <th></th>\n",
       "      <th>Features</th>\n",
       "      <th>VIF</th>\n",
       "    </tr>\n",
       "  </thead>\n",
       "  <tbody>\n",
       "    <tr>\n",
       "      <th>5</th>\n",
       "      <td>total_rech_amt_8</td>\n",
       "      <td>14.58</td>\n",
       "    </tr>\n",
       "    <tr>\n",
       "      <th>0</th>\n",
       "      <td>arpu_8</td>\n",
       "      <td>14.44</td>\n",
       "    </tr>\n",
       "    <tr>\n",
       "      <th>3</th>\n",
       "      <td>total_ic_mou_8</td>\n",
       "      <td>3.08</td>\n",
       "    </tr>\n",
       "    <tr>\n",
       "      <th>17</th>\n",
       "      <td>total_ic_mou_good</td>\n",
       "      <td>3.01</td>\n",
       "    </tr>\n",
       "    <tr>\n",
       "      <th>16</th>\n",
       "      <td>arpu_good</td>\n",
       "      <td>2.98</td>\n",
       "    </tr>\n",
       "    <tr>\n",
       "      <th>7</th>\n",
       "      <td>vol_2g_mb_8</td>\n",
       "      <td>1.90</td>\n",
       "    </tr>\n",
       "    <tr>\n",
       "      <th>18</th>\n",
       "      <td>vol_2g_mb_good</td>\n",
       "      <td>1.88</td>\n",
       "    </tr>\n",
       "    <tr>\n",
       "      <th>8</th>\n",
       "      <td>monthly_2g_8</td>\n",
       "      <td>1.81</td>\n",
       "    </tr>\n",
       "    <tr>\n",
       "      <th>15</th>\n",
       "      <td>monthly_2g_good</td>\n",
       "      <td>1.78</td>\n",
       "    </tr>\n",
       "    <tr>\n",
       "      <th>4</th>\n",
       "      <td>total_rech_num_8</td>\n",
       "      <td>1.71</td>\n",
       "    </tr>\n",
       "    <tr>\n",
       "      <th>2</th>\n",
       "      <td>offnet_mou_8</td>\n",
       "      <td>1.54</td>\n",
       "    </tr>\n",
       "    <tr>\n",
       "      <th>10</th>\n",
       "      <td>monthly_3g_8</td>\n",
       "      <td>1.46</td>\n",
       "    </tr>\n",
       "    <tr>\n",
       "      <th>13</th>\n",
       "      <td>aug_vbc_3g</td>\n",
       "      <td>1.43</td>\n",
       "    </tr>\n",
       "    <tr>\n",
       "      <th>6</th>\n",
       "      <td>last_day_rch_amt_8</td>\n",
       "      <td>1.42</td>\n",
       "    </tr>\n",
       "    <tr>\n",
       "      <th>9</th>\n",
       "      <td>sachet_2g_8</td>\n",
       "      <td>1.42</td>\n",
       "    </tr>\n",
       "    <tr>\n",
       "      <th>1</th>\n",
       "      <td>onnet_mou_8</td>\n",
       "      <td>1.27</td>\n",
       "    </tr>\n",
       "    <tr>\n",
       "      <th>11</th>\n",
       "      <td>sachet_3g_8</td>\n",
       "      <td>1.10</td>\n",
       "    </tr>\n",
       "    <tr>\n",
       "      <th>12</th>\n",
       "      <td>aon</td>\n",
       "      <td>1.07</td>\n",
       "    </tr>\n",
       "    <tr>\n",
       "      <th>14</th>\n",
       "      <td>sep_vbc_3g</td>\n",
       "      <td>1.05</td>\n",
       "    </tr>\n",
       "  </tbody>\n",
       "</table>\n",
       "</div>"
      ],
      "text/plain": [
       "              Features    VIF\n",
       "5     total_rech_amt_8  14.58\n",
       "0               arpu_8  14.44\n",
       "3       total_ic_mou_8   3.08\n",
       "17   total_ic_mou_good   3.01\n",
       "16           arpu_good   2.98\n",
       "7          vol_2g_mb_8   1.90\n",
       "18      vol_2g_mb_good   1.88\n",
       "8         monthly_2g_8   1.81\n",
       "15     monthly_2g_good   1.78\n",
       "4     total_rech_num_8   1.71\n",
       "2         offnet_mou_8   1.54\n",
       "10        monthly_3g_8   1.46\n",
       "13          aug_vbc_3g   1.43\n",
       "6   last_day_rch_amt_8   1.42\n",
       "9          sachet_2g_8   1.42\n",
       "1          onnet_mou_8   1.27\n",
       "11         sachet_3g_8   1.10\n",
       "12                 aon   1.07\n",
       "14          sep_vbc_3g   1.05"
      ]
     },
     "execution_count": 157,
     "metadata": {},
     "output_type": "execute_result"
    }
   ],
   "source": [
    "# Create a dataframe that will contain the names of all the feature variables and their respective VIFs\n",
    "\n",
    "Vif_m = pd.DataFrame()\n",
    "Vif_m['Features'] = X_train[col_names].columns\n",
    "Vif_m['VIF'] = [variance_inflation_factor(X_train[col_names].values, i) for i in range(X_train[col_names].shape[1])]\n",
    "Vif_m['VIF'] = round(Vif_m['VIF'], 2)\n",
    "Vif_m = Vif_m.sort_values(by = \"VIF\", ascending = False)\n",
    "Vif_m"
   ]
  },
  {
   "cell_type": "markdown",
   "metadata": {},
   "source": [
    "##### There are a few variables with high VIF. It's best to drop these variables as they aren't helping much with prediction and unnecessarily making the model complex The variable 'total_rech_amt_8' has the highest VIF. So let's start by dropping that.\n"
   ]
  },
  {
   "cell_type": "code",
   "execution_count": 158,
   "metadata": {},
   "outputs": [],
   "source": [
    "#lets drop the  total_og_mou_8\n",
    "col_names=['arpu_8', 'onnet_mou_8', 'offnet_mou_8',\n",
    "       'total_ic_mou_8', 'total_rech_num_8',\n",
    "       'last_day_rch_amt_8', 'vol_2g_mb_8', 'monthly_2g_8', 'sachet_2g_8',\n",
    "       'monthly_3g_8', 'sachet_3g_8', 'aon', 'aug_vbc_3g', 'sep_vbc_3g',\n",
    "       'monthly_2g_good', 'arpu_good', 'total_ic_mou_good', 'vol_2g_mb_good']"
   ]
  },
  {
   "cell_type": "code",
   "execution_count": 159,
   "metadata": {},
   "outputs": [
    {
     "data": {
      "text/html": [
       "<table class=\"simpletable\">\n",
       "<caption>Generalized Linear Model Regression Results</caption>\n",
       "<tr>\n",
       "  <th>Dep. Variable:</th>         <td>churn</td>      <th>  No. Observations:  </th>  <td> 21000</td> \n",
       "</tr>\n",
       "<tr>\n",
       "  <th>Model:</th>                  <td>GLM</td>       <th>  Df Residuals:      </th>  <td> 20981</td> \n",
       "</tr>\n",
       "<tr>\n",
       "  <th>Model Family:</th>        <td>Binomial</td>     <th>  Df Model:          </th>  <td>    18</td> \n",
       "</tr>\n",
       "<tr>\n",
       "  <th>Link Function:</th>         <td>logit</td>      <th>  Scale:             </th> <td>  1.0000</td>\n",
       "</tr>\n",
       "<tr>\n",
       "  <th>Method:</th>                <td>IRLS</td>       <th>  Log-Likelihood:    </th> <td> -3994.1</td>\n",
       "</tr>\n",
       "<tr>\n",
       "  <th>Date:</th>            <td>Mon, 04 Nov 2019</td> <th>  Deviance:          </th> <td>  7988.2</td>\n",
       "</tr>\n",
       "<tr>\n",
       "  <th>Time:</th>                <td>21:35:40</td>     <th>  Pearson chi2:      </th> <td>7.32e+06</td>\n",
       "</tr>\n",
       "<tr>\n",
       "  <th>No. Iterations:</th>         <td>10</td>        <th>                     </th>     <td> </td>   \n",
       "</tr>\n",
       "<tr>\n",
       "  <th>Covariance Type:</th>     <td>nonrobust</td>    <th>                     </th>     <td> </td>   \n",
       "</tr>\n",
       "</table>\n",
       "<table class=\"simpletable\">\n",
       "<tr>\n",
       "           <td></td>             <th>coef</th>     <th>std err</th>      <th>z</th>      <th>P>|z|</th>  <th>[0.025</th>    <th>0.975]</th>  \n",
       "</tr>\n",
       "<tr>\n",
       "  <th>const</th>              <td>   -4.2382</td> <td>    0.080</td> <td>  -52.963</td> <td> 0.000</td> <td>   -4.395</td> <td>   -4.081</td>\n",
       "</tr>\n",
       "<tr>\n",
       "  <th>arpu_8</th>             <td>   -0.5405</td> <td>    0.080</td> <td>   -6.739</td> <td> 0.000</td> <td>   -0.698</td> <td>   -0.383</td>\n",
       "</tr>\n",
       "<tr>\n",
       "  <th>onnet_mou_8</th>        <td>   -0.1797</td> <td>    0.052</td> <td>   -3.456</td> <td> 0.001</td> <td>   -0.282</td> <td>   -0.078</td>\n",
       "</tr>\n",
       "<tr>\n",
       "  <th>offnet_mou_8</th>       <td>   -0.3144</td> <td>    0.066</td> <td>   -4.777</td> <td> 0.000</td> <td>   -0.443</td> <td>   -0.185</td>\n",
       "</tr>\n",
       "<tr>\n",
       "  <th>total_ic_mou_8</th>     <td>   -2.4472</td> <td>    0.127</td> <td>  -19.245</td> <td> 0.000</td> <td>   -2.696</td> <td>   -2.198</td>\n",
       "</tr>\n",
       "<tr>\n",
       "  <th>total_rech_num_8</th>   <td>   -0.4176</td> <td>    0.061</td> <td>   -6.838</td> <td> 0.000</td> <td>   -0.537</td> <td>   -0.298</td>\n",
       "</tr>\n",
       "<tr>\n",
       "  <th>last_day_rch_amt_8</th> <td>   -0.3233</td> <td>    0.057</td> <td>   -5.680</td> <td> 0.000</td> <td>   -0.435</td> <td>   -0.212</td>\n",
       "</tr>\n",
       "<tr>\n",
       "  <th>vol_2g_mb_8</th>        <td>   -0.5993</td> <td>    0.111</td> <td>   -5.412</td> <td> 0.000</td> <td>   -0.816</td> <td>   -0.382</td>\n",
       "</tr>\n",
       "<tr>\n",
       "  <th>monthly_2g_8</th>       <td>   -0.4262</td> <td>    0.077</td> <td>   -5.532</td> <td> 0.000</td> <td>   -0.577</td> <td>   -0.275</td>\n",
       "</tr>\n",
       "<tr>\n",
       "  <th>sachet_2g_8</th>        <td>   -0.6456</td> <td>    0.082</td> <td>   -7.853</td> <td> 0.000</td> <td>   -0.807</td> <td>   -0.484</td>\n",
       "</tr>\n",
       "<tr>\n",
       "  <th>monthly_3g_8</th>       <td>   -0.4124</td> <td>    0.067</td> <td>   -6.178</td> <td> 0.000</td> <td>   -0.543</td> <td>   -0.282</td>\n",
       "</tr>\n",
       "<tr>\n",
       "  <th>sachet_3g_8</th>        <td>   -0.1434</td> <td>    0.069</td> <td>   -2.079</td> <td> 0.038</td> <td>   -0.279</td> <td>   -0.008</td>\n",
       "</tr>\n",
       "<tr>\n",
       "  <th>aon</th>                <td>   -0.2287</td> <td>    0.038</td> <td>   -6.085</td> <td> 0.000</td> <td>   -0.302</td> <td>   -0.155</td>\n",
       "</tr>\n",
       "<tr>\n",
       "  <th>aug_vbc_3g</th>         <td>   -0.2004</td> <td>    0.074</td> <td>   -2.695</td> <td> 0.007</td> <td>   -0.346</td> <td>   -0.055</td>\n",
       "</tr>\n",
       "<tr>\n",
       "  <th>sep_vbc_3g</th>         <td>   -0.9677</td> <td>    0.270</td> <td>   -3.582</td> <td> 0.000</td> <td>   -1.497</td> <td>   -0.438</td>\n",
       "</tr>\n",
       "<tr>\n",
       "  <th>monthly_2g_good</th>    <td>   -0.2442</td> <td>    0.050</td> <td>   -4.884</td> <td> 0.000</td> <td>   -0.342</td> <td>   -0.146</td>\n",
       "</tr>\n",
       "<tr>\n",
       "  <th>arpu_good</th>          <td>    0.6427</td> <td>    0.047</td> <td>   13.796</td> <td> 0.000</td> <td>    0.551</td> <td>    0.734</td>\n",
       "</tr>\n",
       "<tr>\n",
       "  <th>total_ic_mou_good</th>  <td>    0.5016</td> <td>    0.052</td> <td>    9.582</td> <td> 0.000</td> <td>    0.399</td> <td>    0.604</td>\n",
       "</tr>\n",
       "<tr>\n",
       "  <th>vol_2g_mb_good</th>     <td>    0.1858</td> <td>    0.040</td> <td>    4.594</td> <td> 0.000</td> <td>    0.107</td> <td>    0.265</td>\n",
       "</tr>\n",
       "</table>"
      ],
      "text/plain": [
       "<class 'statsmodels.iolib.summary.Summary'>\n",
       "\"\"\"\n",
       "                 Generalized Linear Model Regression Results                  \n",
       "==============================================================================\n",
       "Dep. Variable:                  churn   No. Observations:                21000\n",
       "Model:                            GLM   Df Residuals:                    20981\n",
       "Model Family:                Binomial   Df Model:                           18\n",
       "Link Function:                  logit   Scale:                          1.0000\n",
       "Method:                          IRLS   Log-Likelihood:                -3994.1\n",
       "Date:                Mon, 04 Nov 2019   Deviance:                       7988.2\n",
       "Time:                        21:35:40   Pearson chi2:                 7.32e+06\n",
       "No. Iterations:                    10                                         \n",
       "Covariance Type:            nonrobust                                         \n",
       "======================================================================================\n",
       "                         coef    std err          z      P>|z|      [0.025      0.975]\n",
       "--------------------------------------------------------------------------------------\n",
       "const                 -4.2382      0.080    -52.963      0.000      -4.395      -4.081\n",
       "arpu_8                -0.5405      0.080     -6.739      0.000      -0.698      -0.383\n",
       "onnet_mou_8           -0.1797      0.052     -3.456      0.001      -0.282      -0.078\n",
       "offnet_mou_8          -0.3144      0.066     -4.777      0.000      -0.443      -0.185\n",
       "total_ic_mou_8        -2.4472      0.127    -19.245      0.000      -2.696      -2.198\n",
       "total_rech_num_8      -0.4176      0.061     -6.838      0.000      -0.537      -0.298\n",
       "last_day_rch_amt_8    -0.3233      0.057     -5.680      0.000      -0.435      -0.212\n",
       "vol_2g_mb_8           -0.5993      0.111     -5.412      0.000      -0.816      -0.382\n",
       "monthly_2g_8          -0.4262      0.077     -5.532      0.000      -0.577      -0.275\n",
       "sachet_2g_8           -0.6456      0.082     -7.853      0.000      -0.807      -0.484\n",
       "monthly_3g_8          -0.4124      0.067     -6.178      0.000      -0.543      -0.282\n",
       "sachet_3g_8           -0.1434      0.069     -2.079      0.038      -0.279      -0.008\n",
       "aon                   -0.2287      0.038     -6.085      0.000      -0.302      -0.155\n",
       "aug_vbc_3g            -0.2004      0.074     -2.695      0.007      -0.346      -0.055\n",
       "sep_vbc_3g            -0.9677      0.270     -3.582      0.000      -1.497      -0.438\n",
       "monthly_2g_good       -0.2442      0.050     -4.884      0.000      -0.342      -0.146\n",
       "arpu_good              0.6427      0.047     13.796      0.000       0.551       0.734\n",
       "total_ic_mou_good      0.5016      0.052      9.582      0.000       0.399       0.604\n",
       "vol_2g_mb_good         0.1858      0.040      4.594      0.000       0.107       0.265\n",
       "======================================================================================\n",
       "\"\"\""
      ]
     },
     "execution_count": 159,
     "metadata": {},
     "output_type": "execute_result"
    }
   ],
   "source": [
    "# Let's re-run the model using the selected variables\n",
    "X_train_sm = sm.add_constant(X_train[col_names])\n",
    "logm4 = sm.GLM(y_train,X_train_sm, family = sm.families.Binomial())\n",
    "res = logm4.fit()\n",
    "res.summary()"
   ]
  },
  {
   "cell_type": "code",
   "execution_count": 160,
   "metadata": {},
   "outputs": [
    {
     "data": {
      "text/html": [
       "<div>\n",
       "<style scoped>\n",
       "    .dataframe tbody tr th:only-of-type {\n",
       "        vertical-align: middle;\n",
       "    }\n",
       "\n",
       "    .dataframe tbody tr th {\n",
       "        vertical-align: top;\n",
       "    }\n",
       "\n",
       "    .dataframe thead th {\n",
       "        text-align: right;\n",
       "    }\n",
       "</style>\n",
       "<table border=\"1\" class=\"dataframe\">\n",
       "  <thead>\n",
       "    <tr style=\"text-align: right;\">\n",
       "      <th></th>\n",
       "      <th>Features</th>\n",
       "      <th>VIF</th>\n",
       "    </tr>\n",
       "  </thead>\n",
       "  <tbody>\n",
       "    <tr>\n",
       "      <th>0</th>\n",
       "      <td>arpu_8</td>\n",
       "      <td>4.09</td>\n",
       "    </tr>\n",
       "    <tr>\n",
       "      <th>3</th>\n",
       "      <td>total_ic_mou_8</td>\n",
       "      <td>3.08</td>\n",
       "    </tr>\n",
       "    <tr>\n",
       "      <th>16</th>\n",
       "      <td>total_ic_mou_good</td>\n",
       "      <td>3.01</td>\n",
       "    </tr>\n",
       "    <tr>\n",
       "      <th>15</th>\n",
       "      <td>arpu_good</td>\n",
       "      <td>2.88</td>\n",
       "    </tr>\n",
       "    <tr>\n",
       "      <th>6</th>\n",
       "      <td>vol_2g_mb_8</td>\n",
       "      <td>1.90</td>\n",
       "    </tr>\n",
       "    <tr>\n",
       "      <th>17</th>\n",
       "      <td>vol_2g_mb_good</td>\n",
       "      <td>1.88</td>\n",
       "    </tr>\n",
       "    <tr>\n",
       "      <th>7</th>\n",
       "      <td>monthly_2g_8</td>\n",
       "      <td>1.80</td>\n",
       "    </tr>\n",
       "    <tr>\n",
       "      <th>14</th>\n",
       "      <td>monthly_2g_good</td>\n",
       "      <td>1.78</td>\n",
       "    </tr>\n",
       "    <tr>\n",
       "      <th>4</th>\n",
       "      <td>total_rech_num_8</td>\n",
       "      <td>1.66</td>\n",
       "    </tr>\n",
       "    <tr>\n",
       "      <th>2</th>\n",
       "      <td>offnet_mou_8</td>\n",
       "      <td>1.54</td>\n",
       "    </tr>\n",
       "    <tr>\n",
       "      <th>9</th>\n",
       "      <td>monthly_3g_8</td>\n",
       "      <td>1.46</td>\n",
       "    </tr>\n",
       "    <tr>\n",
       "      <th>12</th>\n",
       "      <td>aug_vbc_3g</td>\n",
       "      <td>1.43</td>\n",
       "    </tr>\n",
       "    <tr>\n",
       "      <th>8</th>\n",
       "      <td>sachet_2g_8</td>\n",
       "      <td>1.41</td>\n",
       "    </tr>\n",
       "    <tr>\n",
       "      <th>1</th>\n",
       "      <td>onnet_mou_8</td>\n",
       "      <td>1.27</td>\n",
       "    </tr>\n",
       "    <tr>\n",
       "      <th>5</th>\n",
       "      <td>last_day_rch_amt_8</td>\n",
       "      <td>1.25</td>\n",
       "    </tr>\n",
       "    <tr>\n",
       "      <th>10</th>\n",
       "      <td>sachet_3g_8</td>\n",
       "      <td>1.10</td>\n",
       "    </tr>\n",
       "    <tr>\n",
       "      <th>11</th>\n",
       "      <td>aon</td>\n",
       "      <td>1.07</td>\n",
       "    </tr>\n",
       "    <tr>\n",
       "      <th>13</th>\n",
       "      <td>sep_vbc_3g</td>\n",
       "      <td>1.05</td>\n",
       "    </tr>\n",
       "  </tbody>\n",
       "</table>\n",
       "</div>"
      ],
      "text/plain": [
       "              Features   VIF\n",
       "0               arpu_8  4.09\n",
       "3       total_ic_mou_8  3.08\n",
       "16   total_ic_mou_good  3.01\n",
       "15           arpu_good  2.88\n",
       "6          vol_2g_mb_8  1.90\n",
       "17      vol_2g_mb_good  1.88\n",
       "7         monthly_2g_8  1.80\n",
       "14     monthly_2g_good  1.78\n",
       "4     total_rech_num_8  1.66\n",
       "2         offnet_mou_8  1.54\n",
       "9         monthly_3g_8  1.46\n",
       "12          aug_vbc_3g  1.43\n",
       "8          sachet_2g_8  1.41\n",
       "1          onnet_mou_8  1.27\n",
       "5   last_day_rch_amt_8  1.25\n",
       "10         sachet_3g_8  1.10\n",
       "11                 aon  1.07\n",
       "13          sep_vbc_3g  1.05"
      ]
     },
     "execution_count": 160,
     "metadata": {},
     "output_type": "execute_result"
    }
   ],
   "source": [
    "# Create a dataframe that will contain the names of all the feature variables and their respective VIFs\n",
    "Vif_m = pd.DataFrame()\n",
    "Vif_m['Features'] = X_train[col_names].columns\n",
    "Vif_m['VIF'] = [variance_inflation_factor(X_train[col_names].values, i) for i in range(X_train[col_names].shape[1])]\n",
    "Vif_m['VIF'] = round(Vif_m['VIF'], 2)\n",
    "Vif_m = Vif_m.sort_values(by = \"VIF\", ascending = False)\n",
    "Vif_m"
   ]
  },
  {
   "cell_type": "code",
   "execution_count": 161,
   "metadata": {},
   "outputs": [
    {
     "data": {
      "text/plain": [
       "39186    0.066669\n",
       "39833    0.012667\n",
       "38778    0.021248\n",
       "43026    0.000022\n",
       "12271    0.004561\n",
       "33607    0.001839\n",
       "51913    0.001038\n",
       "16668    0.003006\n",
       "54924    0.029270\n",
       "33733    0.049535\n",
       "dtype: float64"
      ]
     },
     "execution_count": 161,
     "metadata": {},
     "output_type": "execute_result"
    }
   ],
   "source": [
    "# Getting the predicted values on the train set\n",
    "y_train_pred = res.predict(X_train_sm)\n",
    "y_train_pred[:10]"
   ]
  },
  {
   "cell_type": "code",
   "execution_count": 162,
   "metadata": {},
   "outputs": [
    {
     "data": {
      "text/plain": [
       "array([6.66690658e-02, 1.26674673e-02, 2.12484517e-02, 2.15081225e-05,\n",
       "       4.56094396e-03, 1.83882095e-03, 1.03753598e-03, 3.00562628e-03,\n",
       "       2.92700712e-02, 4.95354215e-02])"
      ]
     },
     "execution_count": 162,
     "metadata": {},
     "output_type": "execute_result"
    }
   ],
   "source": [
    "y_train_pred = y_train_pred.values.reshape(-1)\n",
    "y_train_pred[:10]"
   ]
  },
  {
   "cell_type": "code",
   "execution_count": 163,
   "metadata": {},
   "outputs": [
    {
     "data": {
      "text/html": [
       "<div>\n",
       "<style scoped>\n",
       "    .dataframe tbody tr th:only-of-type {\n",
       "        vertical-align: middle;\n",
       "    }\n",
       "\n",
       "    .dataframe tbody tr th {\n",
       "        vertical-align: top;\n",
       "    }\n",
       "\n",
       "    .dataframe thead th {\n",
       "        text-align: right;\n",
       "    }\n",
       "</style>\n",
       "<table border=\"1\" class=\"dataframe\">\n",
       "  <thead>\n",
       "    <tr style=\"text-align: right;\">\n",
       "      <th></th>\n",
       "      <th>Churned</th>\n",
       "      <th>Churned_Prob</th>\n",
       "      <th>Customer ID</th>\n",
       "    </tr>\n",
       "  </thead>\n",
       "  <tbody>\n",
       "    <tr>\n",
       "      <th>0</th>\n",
       "      <td>0</td>\n",
       "      <td>0.066669</td>\n",
       "      <td>39186</td>\n",
       "    </tr>\n",
       "    <tr>\n",
       "      <th>1</th>\n",
       "      <td>0</td>\n",
       "      <td>0.012667</td>\n",
       "      <td>39833</td>\n",
       "    </tr>\n",
       "    <tr>\n",
       "      <th>2</th>\n",
       "      <td>0</td>\n",
       "      <td>0.021248</td>\n",
       "      <td>38778</td>\n",
       "    </tr>\n",
       "    <tr>\n",
       "      <th>3</th>\n",
       "      <td>0</td>\n",
       "      <td>0.000022</td>\n",
       "      <td>43026</td>\n",
       "    </tr>\n",
       "    <tr>\n",
       "      <th>4</th>\n",
       "      <td>0</td>\n",
       "      <td>0.004561</td>\n",
       "      <td>12271</td>\n",
       "    </tr>\n",
       "  </tbody>\n",
       "</table>\n",
       "</div>"
      ],
      "text/plain": [
       "   Churned  Churned_Prob  Customer ID\n",
       "0        0      0.066669        39186\n",
       "1        0      0.012667        39833\n",
       "2        0      0.021248        38778\n",
       "3        0      0.000022        43026\n",
       "4        0      0.004561        12271"
      ]
     },
     "execution_count": 163,
     "metadata": {},
     "output_type": "execute_result"
    }
   ],
   "source": [
    "# create a dataframe to compare churn probabilty(predicted) and actual value\n",
    "y_train_pred_final = pd.DataFrame({'Churned':y_train.values, 'Churned_Prob':y_train_pred})\n",
    "y_train_pred_final['Customer ID'] = y_train.index\n",
    "y_train_pred_final.head()"
   ]
  },
  {
   "cell_type": "code",
   "execution_count": 164,
   "metadata": {},
   "outputs": [
    {
     "data": {
      "text/html": [
       "<div>\n",
       "<style scoped>\n",
       "    .dataframe tbody tr th:only-of-type {\n",
       "        vertical-align: middle;\n",
       "    }\n",
       "\n",
       "    .dataframe tbody tr th {\n",
       "        vertical-align: top;\n",
       "    }\n",
       "\n",
       "    .dataframe thead th {\n",
       "        text-align: right;\n",
       "    }\n",
       "</style>\n",
       "<table border=\"1\" class=\"dataframe\">\n",
       "  <thead>\n",
       "    <tr style=\"text-align: right;\">\n",
       "      <th></th>\n",
       "      <th>Churned</th>\n",
       "      <th>Churned_Prob</th>\n",
       "      <th>Customer ID</th>\n",
       "      <th>predicted</th>\n",
       "    </tr>\n",
       "  </thead>\n",
       "  <tbody>\n",
       "    <tr>\n",
       "      <th>0</th>\n",
       "      <td>0</td>\n",
       "      <td>0.066669</td>\n",
       "      <td>39186</td>\n",
       "      <td>0</td>\n",
       "    </tr>\n",
       "    <tr>\n",
       "      <th>1</th>\n",
       "      <td>0</td>\n",
       "      <td>0.012667</td>\n",
       "      <td>39833</td>\n",
       "      <td>0</td>\n",
       "    </tr>\n",
       "    <tr>\n",
       "      <th>2</th>\n",
       "      <td>0</td>\n",
       "      <td>0.021248</td>\n",
       "      <td>38778</td>\n",
       "      <td>0</td>\n",
       "    </tr>\n",
       "    <tr>\n",
       "      <th>3</th>\n",
       "      <td>0</td>\n",
       "      <td>0.000022</td>\n",
       "      <td>43026</td>\n",
       "      <td>0</td>\n",
       "    </tr>\n",
       "    <tr>\n",
       "      <th>4</th>\n",
       "      <td>0</td>\n",
       "      <td>0.004561</td>\n",
       "      <td>12271</td>\n",
       "      <td>0</td>\n",
       "    </tr>\n",
       "  </tbody>\n",
       "</table>\n",
       "</div>"
      ],
      "text/plain": [
       "   Churned  Churned_Prob  Customer ID  predicted\n",
       "0        0      0.066669        39186          0\n",
       "1        0      0.012667        39833          0\n",
       "2        0      0.021248        38778          0\n",
       "3        0      0.000022        43026          0\n",
       "4        0      0.004561        12271          0"
      ]
     },
     "execution_count": 164,
     "metadata": {},
     "output_type": "execute_result"
    }
   ],
   "source": [
    "# we select cutoff probability as 0.3:\n",
    "y_train_pred_final['predicted'] = y_train_pred_final.Churned_Prob.map(lambda x: 1 if x > 0.3 else 0)\n",
    "\n",
    "# Let's see the head\n",
    "y_train_pred_final.head()"
   ]
  },
  {
   "cell_type": "code",
   "execution_count": 165,
   "metadata": {},
   "outputs": [],
   "source": [
    "from sklearn import metrics"
   ]
  },
  {
   "cell_type": "code",
   "execution_count": 166,
   "metadata": {},
   "outputs": [
    {
     "name": "stdout",
     "output_type": "stream",
     "text": [
      "[[18511   798]\n",
      " [  732   959]]\n"
     ]
    }
   ],
   "source": [
    "# Confusion matrix for the decided probabity cutoff\n",
    "confusion = metrics.confusion_matrix(y_train_pred_final.Churned, y_train_pred_final.predicted )\n",
    "print(confusion)"
   ]
  },
  {
   "cell_type": "code",
   "execution_count": 167,
   "metadata": {},
   "outputs": [
    {
     "name": "stdout",
     "output_type": "stream",
     "text": [
      "0.9271428571428572\n"
     ]
    }
   ],
   "source": [
    "# Let's check the overall accuracy.\n",
    "print(metrics.accuracy_score(y_train_pred_final.Churned, y_train_pred_final.predicted))"
   ]
  },
  {
   "cell_type": "markdown",
   "metadata": {},
   "source": [
    "1. The model created with probabilty cutoff assumed as 0.3 gives:\n",
    "   Model Accuracy as 92.7%"
   ]
  },
  {
   "cell_type": "markdown",
   "metadata": {},
   "source": [
    "### Finding Optimal Cutoff Point\n",
    "#### Optimal cutoff probability is that prob where we get balanced sensitivity and specificity"
   ]
  },
  {
   "cell_type": "code",
   "execution_count": 168,
   "metadata": {},
   "outputs": [
    {
     "data": {
      "text/html": [
       "<div>\n",
       "<style scoped>\n",
       "    .dataframe tbody tr th:only-of-type {\n",
       "        vertical-align: middle;\n",
       "    }\n",
       "\n",
       "    .dataframe tbody tr th {\n",
       "        vertical-align: top;\n",
       "    }\n",
       "\n",
       "    .dataframe thead th {\n",
       "        text-align: right;\n",
       "    }\n",
       "</style>\n",
       "<table border=\"1\" class=\"dataframe\">\n",
       "  <thead>\n",
       "    <tr style=\"text-align: right;\">\n",
       "      <th></th>\n",
       "      <th>Churned</th>\n",
       "      <th>Churned_Prob</th>\n",
       "      <th>Customer ID</th>\n",
       "      <th>predicted</th>\n",
       "      <th>0.0</th>\n",
       "      <th>0.1</th>\n",
       "      <th>0.2</th>\n",
       "      <th>0.3</th>\n",
       "      <th>0.4</th>\n",
       "      <th>0.5</th>\n",
       "      <th>0.6</th>\n",
       "      <th>0.7</th>\n",
       "      <th>0.8</th>\n",
       "      <th>0.9</th>\n",
       "    </tr>\n",
       "  </thead>\n",
       "  <tbody>\n",
       "    <tr>\n",
       "      <th>0</th>\n",
       "      <td>0</td>\n",
       "      <td>0.066669</td>\n",
       "      <td>39186</td>\n",
       "      <td>0</td>\n",
       "      <td>1</td>\n",
       "      <td>0</td>\n",
       "      <td>0</td>\n",
       "      <td>0</td>\n",
       "      <td>0</td>\n",
       "      <td>0</td>\n",
       "      <td>0</td>\n",
       "      <td>0</td>\n",
       "      <td>0</td>\n",
       "      <td>0</td>\n",
       "    </tr>\n",
       "    <tr>\n",
       "      <th>1</th>\n",
       "      <td>0</td>\n",
       "      <td>0.012667</td>\n",
       "      <td>39833</td>\n",
       "      <td>0</td>\n",
       "      <td>1</td>\n",
       "      <td>0</td>\n",
       "      <td>0</td>\n",
       "      <td>0</td>\n",
       "      <td>0</td>\n",
       "      <td>0</td>\n",
       "      <td>0</td>\n",
       "      <td>0</td>\n",
       "      <td>0</td>\n",
       "      <td>0</td>\n",
       "    </tr>\n",
       "    <tr>\n",
       "      <th>2</th>\n",
       "      <td>0</td>\n",
       "      <td>0.021248</td>\n",
       "      <td>38778</td>\n",
       "      <td>0</td>\n",
       "      <td>1</td>\n",
       "      <td>0</td>\n",
       "      <td>0</td>\n",
       "      <td>0</td>\n",
       "      <td>0</td>\n",
       "      <td>0</td>\n",
       "      <td>0</td>\n",
       "      <td>0</td>\n",
       "      <td>0</td>\n",
       "      <td>0</td>\n",
       "    </tr>\n",
       "    <tr>\n",
       "      <th>3</th>\n",
       "      <td>0</td>\n",
       "      <td>0.000022</td>\n",
       "      <td>43026</td>\n",
       "      <td>0</td>\n",
       "      <td>1</td>\n",
       "      <td>0</td>\n",
       "      <td>0</td>\n",
       "      <td>0</td>\n",
       "      <td>0</td>\n",
       "      <td>0</td>\n",
       "      <td>0</td>\n",
       "      <td>0</td>\n",
       "      <td>0</td>\n",
       "      <td>0</td>\n",
       "    </tr>\n",
       "    <tr>\n",
       "      <th>4</th>\n",
       "      <td>0</td>\n",
       "      <td>0.004561</td>\n",
       "      <td>12271</td>\n",
       "      <td>0</td>\n",
       "      <td>1</td>\n",
       "      <td>0</td>\n",
       "      <td>0</td>\n",
       "      <td>0</td>\n",
       "      <td>0</td>\n",
       "      <td>0</td>\n",
       "      <td>0</td>\n",
       "      <td>0</td>\n",
       "      <td>0</td>\n",
       "      <td>0</td>\n",
       "    </tr>\n",
       "  </tbody>\n",
       "</table>\n",
       "</div>"
      ],
      "text/plain": [
       "   Churned  Churned_Prob  Customer ID  predicted  0.0  0.1  0.2  0.3  0.4  \\\n",
       "0        0      0.066669        39186          0    1    0    0    0    0   \n",
       "1        0      0.012667        39833          0    1    0    0    0    0   \n",
       "2        0      0.021248        38778          0    1    0    0    0    0   \n",
       "3        0      0.000022        43026          0    1    0    0    0    0   \n",
       "4        0      0.004561        12271          0    1    0    0    0    0   \n",
       "\n",
       "   0.5  0.6  0.7  0.8  0.9  \n",
       "0    0    0    0    0    0  \n",
       "1    0    0    0    0    0  \n",
       "2    0    0    0    0    0  \n",
       "3    0    0    0    0    0  \n",
       "4    0    0    0    0    0  "
      ]
     },
     "execution_count": 168,
     "metadata": {},
     "output_type": "execute_result"
    }
   ],
   "source": [
    "# Let's create columns with different probability cutoffs \n",
    "numbers = [float(x)/10 for x in range(10)]\n",
    "for i in numbers:\n",
    "    y_train_pred_final[i]= y_train_pred_final.Churned_Prob.map(lambda x: 1 if x > i else 0)\n",
    "y_train_pred_final.head()"
   ]
  },
  {
   "cell_type": "code",
   "execution_count": 169,
   "metadata": {},
   "outputs": [
    {
     "name": "stdout",
     "output_type": "stream",
     "text": [
      "     prob  accuracy     sensi     speci\n",
      "0.0   0.0  0.080524  1.000000  0.000000\n",
      "0.1   0.1  0.822286  0.797161  0.824486\n",
      "0.2   0.2  0.904952  0.672975  0.925268\n",
      "0.3   0.3  0.927143  0.567120  0.958672\n",
      "0.4   0.4  0.932762  0.406268  0.978870\n",
      "0.5   0.5  0.929286  0.223536  0.991092\n",
      "0.6   0.6  0.925810  0.117090  0.996634\n",
      "0.7   0.7  0.922667  0.054406  0.998705\n",
      "0.8   0.8  0.921000  0.025429  0.999430\n",
      "0.9   0.9  0.920286  0.013010  0.999741\n"
     ]
    }
   ],
   "source": [
    "# Now let's calculate accuracy sensitivity and specificity for various probability cutoffs.\n",
    "cutoff_df = pd.DataFrame( columns = ['prob','accuracy','sensi','speci'])\n",
    "from sklearn.metrics import confusion_matrix\n",
    "\n",
    "# TP = confusion[1,1] # true positive \n",
    "# TN = confusion[0,0] # true negatives\n",
    "# FP = confusion[0,1] # false positives\n",
    "# FN = confusion[1,0] # false negatives\n",
    "\n",
    "num = [0.0,0.1,0.2,0.3,0.4,0.5,0.6,0.7,0.8,0.9]\n",
    "for i in num:\n",
    "    cm1 = metrics.confusion_matrix(y_train_pred_final.Churned, y_train_pred_final[i] )\n",
    "    total1=sum(sum(cm1))\n",
    "    accuracy = (cm1[0,0]+cm1[1,1])/total1\n",
    "    \n",
    "    speci = cm1[0,0]/(cm1[0,0]+cm1[0,1])\n",
    "    sensi = cm1[1,1]/(cm1[1,0]+cm1[1,1])\n",
    "    cutoff_df.loc[i] =[ i ,accuracy,sensi,speci]\n",
    "print(cutoff_df)"
   ]
  },
  {
   "cell_type": "code",
   "execution_count": 170,
   "metadata": {},
   "outputs": [
    {
     "data": {
      "image/png": "[encoded data removed]",
      "text/plain": [
       "<Figure size 432x288 with 1 Axes>"
      ]
     },
     "metadata": {
      "needs_background": "light"
     },
     "output_type": "display_data"
    }
   ],
   "source": [
    "# Let's plot accuracy sensitivity and specificity for various probabilities to determine the best value of \n",
    "# -prob.cutoff\n",
    "\n",
    "cutoff_df.plot.line(x='prob', y=['accuracy','sensi','speci'])\n",
    "plt.show()"
   ]
  },
  {
   "cell_type": "code",
   "execution_count": 171,
   "metadata": {},
   "outputs": [
    {
     "data": {
      "text/html": [
       "<div>\n",
       "<style scoped>\n",
       "    .dataframe tbody tr th:only-of-type {\n",
       "        vertical-align: middle;\n",
       "    }\n",
       "\n",
       "    .dataframe tbody tr th {\n",
       "        vertical-align: top;\n",
       "    }\n",
       "\n",
       "    .dataframe thead th {\n",
       "        text-align: right;\n",
       "    }\n",
       "</style>\n",
       "<table border=\"1\" class=\"dataframe\">\n",
       "  <thead>\n",
       "    <tr style=\"text-align: right;\">\n",
       "      <th></th>\n",
       "      <th>Churned</th>\n",
       "      <th>Churned_Prob</th>\n",
       "      <th>Customer ID</th>\n",
       "      <th>predicted</th>\n",
       "      <th>0.0</th>\n",
       "      <th>0.1</th>\n",
       "      <th>0.2</th>\n",
       "      <th>0.3</th>\n",
       "      <th>0.4</th>\n",
       "      <th>0.5</th>\n",
       "      <th>0.6</th>\n",
       "      <th>0.7</th>\n",
       "      <th>0.8</th>\n",
       "      <th>0.9</th>\n",
       "      <th>final_predicted</th>\n",
       "    </tr>\n",
       "  </thead>\n",
       "  <tbody>\n",
       "    <tr>\n",
       "      <th>0</th>\n",
       "      <td>0</td>\n",
       "      <td>0.066669</td>\n",
       "      <td>39186</td>\n",
       "      <td>0</td>\n",
       "      <td>1</td>\n",
       "      <td>0</td>\n",
       "      <td>0</td>\n",
       "      <td>0</td>\n",
       "      <td>0</td>\n",
       "      <td>0</td>\n",
       "      <td>0</td>\n",
       "      <td>0</td>\n",
       "      <td>0</td>\n",
       "      <td>0</td>\n",
       "      <td>0</td>\n",
       "    </tr>\n",
       "    <tr>\n",
       "      <th>1</th>\n",
       "      <td>0</td>\n",
       "      <td>0.012667</td>\n",
       "      <td>39833</td>\n",
       "      <td>0</td>\n",
       "      <td>1</td>\n",
       "      <td>0</td>\n",
       "      <td>0</td>\n",
       "      <td>0</td>\n",
       "      <td>0</td>\n",
       "      <td>0</td>\n",
       "      <td>0</td>\n",
       "      <td>0</td>\n",
       "      <td>0</td>\n",
       "      <td>0</td>\n",
       "      <td>0</td>\n",
       "    </tr>\n",
       "    <tr>\n",
       "      <th>2</th>\n",
       "      <td>0</td>\n",
       "      <td>0.021248</td>\n",
       "      <td>38778</td>\n",
       "      <td>0</td>\n",
       "      <td>1</td>\n",
       "      <td>0</td>\n",
       "      <td>0</td>\n",
       "      <td>0</td>\n",
       "      <td>0</td>\n",
       "      <td>0</td>\n",
       "      <td>0</td>\n",
       "      <td>0</td>\n",
       "      <td>0</td>\n",
       "      <td>0</td>\n",
       "      <td>0</td>\n",
       "    </tr>\n",
       "    <tr>\n",
       "      <th>3</th>\n",
       "      <td>0</td>\n",
       "      <td>0.000022</td>\n",
       "      <td>43026</td>\n",
       "      <td>0</td>\n",
       "      <td>1</td>\n",
       "      <td>0</td>\n",
       "      <td>0</td>\n",
       "      <td>0</td>\n",
       "      <td>0</td>\n",
       "      <td>0</td>\n",
       "      <td>0</td>\n",
       "      <td>0</td>\n",
       "      <td>0</td>\n",
       "      <td>0</td>\n",
       "      <td>0</td>\n",
       "    </tr>\n",
       "    <tr>\n",
       "      <th>4</th>\n",
       "      <td>0</td>\n",
       "      <td>0.004561</td>\n",
       "      <td>12271</td>\n",
       "      <td>0</td>\n",
       "      <td>1</td>\n",
       "      <td>0</td>\n",
       "      <td>0</td>\n",
       "      <td>0</td>\n",
       "      <td>0</td>\n",
       "      <td>0</td>\n",
       "      <td>0</td>\n",
       "      <td>0</td>\n",
       "      <td>0</td>\n",
       "      <td>0</td>\n",
       "      <td>0</td>\n",
       "    </tr>\n",
       "  </tbody>\n",
       "</table>\n",
       "</div>"
      ],
      "text/plain": [
       "   Churned  Churned_Prob  Customer ID  predicted  0.0  0.1  0.2  0.3  0.4  \\\n",
       "0        0      0.066669        39186          0    1    0    0    0    0   \n",
       "1        0      0.012667        39833          0    1    0    0    0    0   \n",
       "2        0      0.021248        38778          0    1    0    0    0    0   \n",
       "3        0      0.000022        43026          0    1    0    0    0    0   \n",
       "4        0      0.004561        12271          0    1    0    0    0    0   \n",
       "\n",
       "   0.5  0.6  0.7  0.8  0.9  final_predicted  \n",
       "0    0    0    0    0    0                0  \n",
       "1    0    0    0    0    0                0  \n",
       "2    0    0    0    0    0                0  \n",
       "3    0    0    0    0    0                0  \n",
       "4    0    0    0    0    0                0  "
      ]
     },
     "execution_count": 171,
     "metadata": {},
     "output_type": "execute_result"
    }
   ],
   "source": [
    "# here Churned_Prob > 0.1  \n",
    "# select cutoff probability as 0.1\n",
    "\n",
    "y_train_pred_final['final_predicted'] = y_train_pred_final.Churned_Prob.map( lambda x: 1 if x > 0.1 else 0)\n",
    "y_train_pred_final.head()"
   ]
  },
  {
   "cell_type": "code",
   "execution_count": 172,
   "metadata": {},
   "outputs": [
    {
     "data": {
      "text/plain": [
       "0.8222857142857143"
      ]
     },
     "execution_count": 172,
     "metadata": {},
     "output_type": "execute_result"
    }
   ],
   "source": [
    "# Let's check the overall accuracy.\n",
    "\n",
    "metrics.accuracy_score(y_train_pred_final.Churned, y_train_pred_final.final_predicted)"
   ]
  },
  {
   "cell_type": "code",
   "execution_count": 173,
   "metadata": {},
   "outputs": [
    {
     "data": {
      "text/plain": [
       "array([[15920,  3389],\n",
       "       [  343,  1348]])"
      ]
     },
     "execution_count": 173,
     "metadata": {},
     "output_type": "execute_result"
    }
   ],
   "source": [
    "confusion2 = metrics.confusion_matrix(y_train_pred_final.Churned, y_train_pred_final.final_predicted )\n",
    "confusion2"
   ]
  },
  {
   "cell_type": "code",
   "execution_count": 174,
   "metadata": {},
   "outputs": [],
   "source": [
    "TP = confusion2[1,1] # true positive \n",
    "TN = confusion2[0,0] # true negatives\n",
    "FP = confusion2[0,1] # false positives\n",
    "FN = confusion2[1,0] # false negatives"
   ]
  },
  {
   "cell_type": "code",
   "execution_count": 175,
   "metadata": {},
   "outputs": [
    {
     "name": "stdout",
     "output_type": "stream",
     "text": [
      "Senstivity : 0.7971614429331756\n",
      "Specificty : 0.8244859909886582\n",
      "False_positive_rate : 0.17551400901134187\n",
      "Positive_predictive_value :  0.28456829216803886\n",
      "Negative_predictive_value :  0.9789091803480293\n"
     ]
    }
   ],
   "source": [
    "print(\"Senstivity :\", TP / float(TP+FN))\n",
    "print(\"Specificty :\" , TN / float(TN+FP))\n",
    "print(\"False_positive_rate :\", FP/ float(TN+FP))\n",
    "print(\"Positive_predictive_value : \", TP / float(TP+FP))\n",
    "print(\"Negative_predictive_value : \", TN / float(TN+ FN))"
   ]
  },
  {
   "cell_type": "markdown",
   "metadata": {},
   "source": [
    "## For the logistic regression model with cutoff probabilty 0.1 we have:\n",
    "1.Senstivity : 0.7971614429331756\n",
    "\n",
    "2.Specificty : 0.8244859909886582\n",
    "\n",
    "3.False_positive_rate : 0.17551400901134187\n",
    "\n",
    "4.Positive_predictive_value :  0.28456829216803886\n",
    "\n",
    "5.Negative_predictive_value :  0.9789091803480293"
   ]
  },
  {
   "cell_type": "markdown",
   "metadata": {},
   "source": [
    "## 2. Random Forest"
   ]
  },
  {
   "cell_type": "code",
   "execution_count": 176,
   "metadata": {},
   "outputs": [],
   "source": [
    "X_train, X_test, y_train, y_test = train_test_split(X, y, test_size=0.3, train_size=0.7, random_state=100)"
   ]
  },
  {
   "cell_type": "code",
   "execution_count": 177,
   "metadata": {},
   "outputs": [
    {
     "name": "stdout",
     "output_type": "stream",
     "text": [
      "(21000, 17)\n",
      "[ 1  4  5  6  7  8  9 10 11 12 13 14 16 17 19 28 31]\n"
     ]
    }
   ],
   "source": [
    "# importing libraries\n",
    "from sklearn.svm import LinearSVC\n",
    "from sklearn.feature_selection import SelectFromModel\n",
    " \n",
    "# model building\n",
    "\n",
    "lsvc = LinearSVC(C=0.001, penalty=\"l1\", dual=False).fit(X_train, y_train)\n",
    "model = SelectFromModel(lsvc, prefit=True)\n",
    "X_lasso = model.transform(X_train)\n",
    "pos = model.get_support(indices=True)\n",
    " ### Feature reduction using RFE\n",
    "print(X_lasso.shape)\n",
    "print(pos)"
   ]
  },
  {
   "cell_type": "code",
   "execution_count": 178,
   "metadata": {},
   "outputs": [
    {
     "name": "stdout",
     "output_type": "stream",
     "text": [
      "Features for LASSO model buidling:  ['arpu_8', 'total_og_mou_8', 'total_ic_mou_8', 'total_rech_num_8', 'total_rech_amt_8', 'max_rech_amt_8', 'last_day_rch_amt_8', 'vol_2g_mb_8', 'vol_3g_mb_8', 'monthly_2g_8', 'sachet_2g_8', 'monthly_3g_8', 'aon', 'aug_vbc_3g', 'monthly_2g_good', 'arpu_good', 'total_og_mou_good']\n"
     ]
    }
   ],
   "source": [
    "#feature vector for decision tree\n",
    "lasso_features = list(churn_df.columns[pos])\n",
    "print(\"Features for LASSO model buidling: \", lasso_features)"
   ]
  },
  {
   "cell_type": "code",
   "execution_count": 179,
   "metadata": {},
   "outputs": [
    {
     "data": {
      "text/plain": [
       "DecisionTreeClassifier(class_weight=None, criterion='gini', max_depth=5,\n",
       "                       max_features=None, max_leaf_nodes=None,\n",
       "                       min_impurity_decrease=0.0, min_impurity_split=None,\n",
       "                       min_samples_leaf=1, min_samples_split=2,\n",
       "                       min_weight_fraction_leaf=0.0, presort=False,\n",
       "                       random_state=None, splitter='best')"
      ]
     },
     "execution_count": 179,
     "metadata": {},
     "output_type": "execute_result"
    }
   ],
   "source": [
    "# Importing decision tree classifier from sklearn library\n",
    "from sklearn.tree import DecisionTreeClassifier\n",
    "from sklearn import tree\n",
    "\n",
    "# Fitting the decision tree with default hyperparameters, apart from\n",
    "# max_depth which is 5 so that we can plot and read the tree.\n",
    "dt1 = DecisionTreeClassifier(max_depth=5)\n",
    "dt1.fit(X_lasso, y_train)"
   ]
  },
  {
   "cell_type": "code",
   "execution_count": 180,
   "metadata": {},
   "outputs": [],
   "source": [
    "X_test = pd.DataFrame(data=X_test).iloc[:, pos]\n",
    "y_pred1 = dt1.predict(X_test)"
   ]
  },
  {
   "cell_type": "code",
   "execution_count": 181,
   "metadata": {},
   "outputs": [
    {
     "name": "stdout",
     "output_type": "stream",
     "text": [
      "Randon Forest Accuracy with Default Hyperparameter 0.939006777024775\n"
     ]
    }
   ],
   "source": [
    "from sklearn.ensemble import RandomForestClassifier\n",
    "from sklearn import metrics\n",
    "\n",
    "model_rf = RandomForestClassifier()\n",
    "model_rf.fit(X_lasso, y_train)\n",
    "\n",
    "# Make predictions\n",
    "prediction_test = model_rf.predict(X_test)\n",
    "print ('Randon Forest Accuracy with Default Hyperparameter',metrics.accuracy_score(y_test, prediction_test))"
   ]
  },
  {
   "cell_type": "code",
   "execution_count": 182,
   "metadata": {},
   "outputs": [
    {
     "name": "stdout",
     "output_type": "stream",
     "text": [
      "              precision    recall  f1-score   support\n",
      "\n",
      "           0       0.95      0.99      0.97      8251\n",
      "           1       0.74      0.41      0.53       750\n",
      "\n",
      "    accuracy                           0.94      9001\n",
      "   macro avg       0.84      0.70      0.75      9001\n",
      "weighted avg       0.93      0.94      0.93      9001\n",
      "\n"
     ]
    }
   ],
   "source": [
    "from sklearn.metrics import classification_report\n",
    "print(classification_report(y_test,prediction_test))"
   ]
  },
  {
   "cell_type": "code",
   "execution_count": 183,
   "metadata": {},
   "outputs": [
    {
     "name": "stdout",
     "output_type": "stream",
     "text": [
      "[[8142  109]\n",
      " [ 440  310]]\n"
     ]
    }
   ],
   "source": [
    "# Printing confusion matrix\n",
    "print(confusion_matrix(y_test, prediction_test))"
   ]
  },
  {
   "cell_type": "markdown",
   "metadata": {},
   "source": [
    "### Hyper Parameters tuning:"
   ]
  },
  {
   "cell_type": "markdown",
   "metadata": {},
   "source": [
    "1.max_depth"
   ]
  },
  {
   "cell_type": "code",
   "execution_count": 187,
   "metadata": {},
   "outputs": [
    {
     "data": {
      "text/plain": [
       "GridSearchCV(cv=5, error_score='raise-deprecating',\n",
       "             estimator=RandomForestClassifier(bootstrap=True, class_weight=None,\n",
       "                                              criterion='gini', max_depth=None,\n",
       "                                              max_features='auto',\n",
       "                                              max_leaf_nodes=None,\n",
       "                                              min_impurity_decrease=0.0,\n",
       "                                              min_impurity_split=None,\n",
       "                                              min_samples_leaf=1,\n",
       "                                              min_samples_split=2,\n",
       "                                              min_weight_fraction_leaf=0.0,\n",
       "                                              n_estimators='warn', n_jobs=None,\n",
       "                                              oob_score=False,\n",
       "                                              random_state=None, verbose=0,\n",
       "                                              warm_start=False),\n",
       "             iid='warn', n_jobs=None, param_grid={'max_depth': range(2, 20, 5)},\n",
       "             pre_dispatch='2*n_jobs', refit=True, return_train_score=True,\n",
       "             scoring='accuracy', verbose=0)"
      ]
     },
     "execution_count": 187,
     "metadata": {},
     "output_type": "execute_result"
    }
   ],
   "source": [
    "# GridSearchCV to find optimal n_estimators\n",
    "from sklearn.model_selection import KFold\n",
    "from sklearn.model_selection import GridSearchCV\n",
    "\n",
    "\n",
    "# specify number of folds for k-fold CV\n",
    "n_folds = 5\n",
    "\n",
    "# parameters to build the model on\n",
    "parameters = {'max_depth': range(2, 20, 5)}\n",
    "\n",
    "# instantiate the model\n",
    "rf = RandomForestClassifier()\n",
    "\n",
    "\n",
    "# fit tree on training data\n",
    "rf = GridSearchCV(rf, parameters, \n",
    "                    cv=n_folds, \n",
    "                   scoring=\"accuracy\",\n",
    "                 return_train_score=True)\n",
    "rf.fit(X_lasso, y_train)"
   ]
  },
  {
   "cell_type": "code",
   "execution_count": 188,
   "metadata": {},
   "outputs": [
    {
     "data": {
      "text/html": [
       "<div>\n",
       "<style scoped>\n",
       "    .dataframe tbody tr th:only-of-type {\n",
       "        vertical-align: middle;\n",
       "    }\n",
       "\n",
       "    .dataframe tbody tr th {\n",
       "        vertical-align: top;\n",
       "    }\n",
       "\n",
       "    .dataframe thead th {\n",
       "        text-align: right;\n",
       "    }\n",
       "</style>\n",
       "<table border=\"1\" class=\"dataframe\">\n",
       "  <thead>\n",
       "    <tr style=\"text-align: right;\">\n",
       "      <th></th>\n",
       "      <th>mean_fit_time</th>\n",
       "      <th>std_fit_time</th>\n",
       "      <th>mean_score_time</th>\n",
       "      <th>std_score_time</th>\n",
       "      <th>param_max_depth</th>\n",
       "      <th>params</th>\n",
       "      <th>split0_test_score</th>\n",
       "      <th>split1_test_score</th>\n",
       "      <th>split2_test_score</th>\n",
       "      <th>split3_test_score</th>\n",
       "      <th>...</th>\n",
       "      <th>mean_test_score</th>\n",
       "      <th>std_test_score</th>\n",
       "      <th>rank_test_score</th>\n",
       "      <th>split0_train_score</th>\n",
       "      <th>split1_train_score</th>\n",
       "      <th>split2_train_score</th>\n",
       "      <th>split3_train_score</th>\n",
       "      <th>split4_train_score</th>\n",
       "      <th>mean_train_score</th>\n",
       "      <th>std_train_score</th>\n",
       "    </tr>\n",
       "  </thead>\n",
       "  <tbody>\n",
       "    <tr>\n",
       "      <th>0</th>\n",
       "      <td>0.102271</td>\n",
       "      <td>0.016683</td>\n",
       "      <td>0.004703</td>\n",
       "      <td>0.000354</td>\n",
       "      <td>2</td>\n",
       "      <td>{'max_depth': 2}</td>\n",
       "      <td>0.944061</td>\n",
       "      <td>0.932619</td>\n",
       "      <td>0.940952</td>\n",
       "      <td>0.949286</td>\n",
       "      <td>...</td>\n",
       "      <td>0.942000</td>\n",
       "      <td>0.005433</td>\n",
       "      <td>2</td>\n",
       "      <td>0.941782</td>\n",
       "      <td>0.944405</td>\n",
       "      <td>0.942143</td>\n",
       "      <td>0.940774</td>\n",
       "      <td>0.941492</td>\n",
       "      <td>0.942119</td>\n",
       "      <td>0.001228</td>\n",
       "    </tr>\n",
       "    <tr>\n",
       "      <th>1</th>\n",
       "      <td>0.219471</td>\n",
       "      <td>0.014018</td>\n",
       "      <td>0.006142</td>\n",
       "      <td>0.001108</td>\n",
       "      <td>7</td>\n",
       "      <td>{'max_depth': 7}</td>\n",
       "      <td>0.943109</td>\n",
       "      <td>0.935238</td>\n",
       "      <td>0.944286</td>\n",
       "      <td>0.948571</td>\n",
       "      <td>...</td>\n",
       "      <td>0.943143</td>\n",
       "      <td>0.004362</td>\n",
       "      <td>1</td>\n",
       "      <td>0.947140</td>\n",
       "      <td>0.950238</td>\n",
       "      <td>0.947798</td>\n",
       "      <td>0.946429</td>\n",
       "      <td>0.947860</td>\n",
       "      <td>0.947893</td>\n",
       "      <td>0.001282</td>\n",
       "    </tr>\n",
       "    <tr>\n",
       "      <th>2</th>\n",
       "      <td>0.305375</td>\n",
       "      <td>0.004008</td>\n",
       "      <td>0.007055</td>\n",
       "      <td>0.000712</td>\n",
       "      <td>12</td>\n",
       "      <td>{'max_depth': 12}</td>\n",
       "      <td>0.941681</td>\n",
       "      <td>0.933571</td>\n",
       "      <td>0.939286</td>\n",
       "      <td>0.948333</td>\n",
       "      <td>...</td>\n",
       "      <td>0.941095</td>\n",
       "      <td>0.004794</td>\n",
       "      <td>4</td>\n",
       "      <td>0.965236</td>\n",
       "      <td>0.966905</td>\n",
       "      <td>0.964881</td>\n",
       "      <td>0.966131</td>\n",
       "      <td>0.967085</td>\n",
       "      <td>0.966048</td>\n",
       "      <td>0.000876</td>\n",
       "    </tr>\n",
       "    <tr>\n",
       "      <th>3</th>\n",
       "      <td>0.342957</td>\n",
       "      <td>0.012655</td>\n",
       "      <td>0.007576</td>\n",
       "      <td>0.000522</td>\n",
       "      <td>17</td>\n",
       "      <td>{'max_depth': 17}</td>\n",
       "      <td>0.943823</td>\n",
       "      <td>0.931667</td>\n",
       "      <td>0.940476</td>\n",
       "      <td>0.948333</td>\n",
       "      <td>...</td>\n",
       "      <td>0.941524</td>\n",
       "      <td>0.005534</td>\n",
       "      <td>3</td>\n",
       "      <td>0.985237</td>\n",
       "      <td>0.984226</td>\n",
       "      <td>0.984167</td>\n",
       "      <td>0.984583</td>\n",
       "      <td>0.985477</td>\n",
       "      <td>0.984738</td>\n",
       "      <td>0.000531</td>\n",
       "    </tr>\n",
       "  </tbody>\n",
       "</table>\n",
       "<p>4 rows × 21 columns</p>\n",
       "</div>"
      ],
      "text/plain": [
       "   mean_fit_time  std_fit_time  mean_score_time  std_score_time  \\\n",
       "0       0.102271      0.016683         0.004703        0.000354   \n",
       "1       0.219471      0.014018         0.006142        0.001108   \n",
       "2       0.305375      0.004008         0.007055        0.000712   \n",
       "3       0.342957      0.012655         0.007576        0.000522   \n",
       "\n",
       "  param_max_depth             params  split0_test_score  split1_test_score  \\\n",
       "0               2   {'max_depth': 2}           0.944061           0.932619   \n",
       "1               7   {'max_depth': 7}           0.943109           0.935238   \n",
       "2              12  {'max_depth': 12}           0.941681           0.933571   \n",
       "3              17  {'max_depth': 17}           0.943823           0.931667   \n",
       "\n",
       "   split2_test_score  split3_test_score  ...  mean_test_score  std_test_score  \\\n",
       "0           0.940952           0.949286  ...         0.942000        0.005433   \n",
       "1           0.944286           0.948571  ...         0.943143        0.004362   \n",
       "2           0.939286           0.948333  ...         0.941095        0.004794   \n",
       "3           0.940476           0.948333  ...         0.941524        0.005534   \n",
       "\n",
       "   rank_test_score  split0_train_score  split1_train_score  \\\n",
       "0                2            0.941782            0.944405   \n",
       "1                1            0.947140            0.950238   \n",
       "2                4            0.965236            0.966905   \n",
       "3                3            0.985237            0.984226   \n",
       "\n",
       "   split2_train_score  split3_train_score  split4_train_score  \\\n",
       "0            0.942143            0.940774            0.941492   \n",
       "1            0.947798            0.946429            0.947860   \n",
       "2            0.964881            0.966131            0.967085   \n",
       "3            0.984167            0.984583            0.985477   \n",
       "\n",
       "   mean_train_score  std_train_score  \n",
       "0          0.942119         0.001228  \n",
       "1          0.947893         0.001282  \n",
       "2          0.966048         0.000876  \n",
       "3          0.984738         0.000531  \n",
       "\n",
       "[4 rows x 21 columns]"
      ]
     },
     "execution_count": 188,
     "metadata": {},
     "output_type": "execute_result"
    }
   ],
   "source": [
    "# scores of GridSearch CV\n",
    "scores = rf.cv_results_\n",
    "pd.DataFrame(scores).head()"
   ]
  },
  {
   "cell_type": "code",
   "execution_count": 189,
   "metadata": {},
   "outputs": [
    {
     "data": {
      "image/png": "[encoded data removed]",
      "text/plain": [
       "<Figure size 432x288 with 1 Axes>"
      ]
     },
     "metadata": {
      "needs_background": "light"
     },
     "output_type": "display_data"
    }
   ],
   "source": [
    "# plotting accuracies with max_depth\n",
    "plt.figure()\n",
    "plt.plot(scores[\"param_max_depth\"], \n",
    "         scores[\"mean_train_score\"], \n",
    "         label=\"training accuracy\")\n",
    "plt.plot(scores[\"param_max_depth\"], \n",
    "         scores[\"mean_test_score\"], \n",
    "         label=\"test accuracy\")\n",
    "plt.xlabel(\"max_depth\")\n",
    "plt.ylabel(\"Accuracy\")\n",
    "plt.legend()\n",
    "plt.show()"
   ]
  },
  {
   "cell_type": "markdown",
   "metadata": {},
   "source": [
    "2.Tuning min_samples_leaf"
   ]
  },
  {
   "cell_type": "code",
   "execution_count": 190,
   "metadata": {},
   "outputs": [
    {
     "data": {
      "text/plain": [
       "GridSearchCV(cv=5, error_score='raise-deprecating',\n",
       "             estimator=RandomForestClassifier(bootstrap=True, class_weight=None,\n",
       "                                              criterion='gini', max_depth=None,\n",
       "                                              max_features='auto',\n",
       "                                              max_leaf_nodes=None,\n",
       "                                              min_impurity_decrease=0.0,\n",
       "                                              min_impurity_split=None,\n",
       "                                              min_samples_leaf=1,\n",
       "                                              min_samples_split=2,\n",
       "                                              min_weight_fraction_leaf=0.0,\n",
       "                                              n_estimators='warn', n_jobs=None,\n",
       "                                              oob_score=False,\n",
       "                                              random_state=None, verbose=0,\n",
       "                                              warm_start=False),\n",
       "             iid='warn', n_jobs=None,\n",
       "             param_grid={'min_samples_leaf': range(50, 400, 10)},\n",
       "             pre_dispatch='2*n_jobs', refit=True, return_train_score=True,\n",
       "             scoring='accuracy', verbose=0)"
      ]
     },
     "execution_count": 190,
     "metadata": {},
     "output_type": "execute_result"
    }
   ],
   "source": [
    "# GridSearchCV to find optimal min_samples_leaf\n",
    "from sklearn.model_selection import KFold\n",
    "from sklearn.model_selection import GridSearchCV\n",
    "\n",
    "\n",
    "# specify number of folds for k-fold CV\n",
    "n_folds = 5\n",
    "\n",
    "# parameters to build the model on\n",
    "parameters = {'min_samples_leaf': range(50, 400, 10)}\n",
    "\n",
    "# instantiate the model\n",
    "rf = RandomForestClassifier()\n",
    "\n",
    "\n",
    "# fit tree on training data\n",
    "rf = GridSearchCV(rf, parameters, \n",
    "                    cv=n_folds, \n",
    "                   scoring=\"accuracy\",\n",
    "                 return_train_score=True)\n",
    "rf.fit(X_lasso, y_train)"
   ]
  },
  {
   "cell_type": "code",
   "execution_count": 191,
   "metadata": {},
   "outputs": [
    {
     "data": {
      "image/png": "[encoded data removed]",
      "text/plain": [
       "<Figure size 432x288 with 1 Axes>"
      ]
     },
     "metadata": {
      "needs_background": "light"
     },
     "output_type": "display_data"
    }
   ],
   "source": [
    "# scores of GridSearch CV\n",
    "scores = rf.cv_results_\n",
    "\n",
    "# plotting accuracies with min_samples_leaf\n",
    "plt.figure()\n",
    "plt.plot(scores[\"param_min_samples_leaf\"], \n",
    "         scores[\"mean_train_score\"], \n",
    "         label=\"training accuracy\")\n",
    "plt.plot(scores[\"param_min_samples_leaf\"], \n",
    "         scores[\"mean_test_score\"], \n",
    "         label=\"test accuracy\")\n",
    "plt.xlabel(\"min_samples_leaf\")\n",
    "plt.ylabel(\"Accuracy\")\n",
    "plt.legend()\n",
    "plt.show()"
   ]
  },
  {
   "cell_type": "markdown",
   "metadata": {},
   "source": [
    "3.Tuning min_samples_split"
   ]
  },
  {
   "cell_type": "code",
   "execution_count": 192,
   "metadata": {},
   "outputs": [
    {
     "data": {
      "text/plain": [
       "GridSearchCV(cv=5, error_score='raise-deprecating',\n",
       "             estimator=RandomForestClassifier(bootstrap=True, class_weight=None,\n",
       "                                              criterion='gini', max_depth=None,\n",
       "                                              max_features='auto',\n",
       "                                              max_leaf_nodes=None,\n",
       "                                              min_impurity_decrease=0.0,\n",
       "                                              min_impurity_split=None,\n",
       "                                              min_samples_leaf=1,\n",
       "                                              min_samples_split=2,\n",
       "                                              min_weight_fraction_leaf=0.0,\n",
       "                                              n_estimators='warn', n_jobs=None,\n",
       "                                              oob_score=False,\n",
       "                                              random_state=None, verbose=0,\n",
       "                                              warm_start=False),\n",
       "             iid='warn', n_jobs=None,\n",
       "             param_grid={'min_samples_split': range(100, 500, 25)},\n",
       "             pre_dispatch='2*n_jobs', refit=True, return_train_score=True,\n",
       "             scoring='accuracy', verbose=0)"
      ]
     },
     "execution_count": 192,
     "metadata": {},
     "output_type": "execute_result"
    }
   ],
   "source": [
    "# GridSearchCV to find optimal min_samples_split\n",
    "from sklearn.model_selection import KFold\n",
    "from sklearn.model_selection import GridSearchCV\n",
    "\n",
    "\n",
    "# specify number of folds for k-fold CV\n",
    "n_folds = 5\n",
    "\n",
    "# parameters to build the model on\n",
    "parameters = {'min_samples_split': range(100, 500, 25)}\n",
    "\n",
    "# instantiate the model\n",
    "rf = RandomForestClassifier()\n",
    "\n",
    "\n",
    "# fit tree on training data\n",
    "rf = GridSearchCV(rf, parameters, \n",
    "                    cv=n_folds, \n",
    "                   scoring=\"accuracy\",\n",
    "                 return_train_score=True)\n",
    "rf.fit(X_lasso, y_train)"
   ]
  },
  {
   "cell_type": "code",
   "execution_count": 193,
   "metadata": {},
   "outputs": [
    {
     "data": {
      "image/png": "[encoded data removed]",
      "text/plain": [
       "<Figure size 432x288 with 1 Axes>"
      ]
     },
     "metadata": {
      "needs_background": "light"
     },
     "output_type": "display_data"
    }
   ],
   "source": [
    "# scores of GridSearch CV\n",
    "scores = rf.cv_results_\n",
    "\n",
    "# plotting accuracies with min_samples_split\n",
    "plt.figure()\n",
    "plt.plot(scores[\"param_min_samples_split\"], \n",
    "         scores[\"mean_train_score\"], \n",
    "         label=\"training accuracy\")\n",
    "plt.plot(scores[\"param_min_samples_split\"], \n",
    "         scores[\"mean_test_score\"], \n",
    "         label=\"test accuracy\")\n",
    "plt.xlabel(\"min_samples_split\")\n",
    "plt.ylabel(\"Accuracy\")\n",
    "plt.legend()\n",
    "plt.show()"
   ]
  },
  {
   "cell_type": "code",
   "execution_count": 194,
   "metadata": {},
   "outputs": [],
   "source": [
    "# Create the parameter grid based on the results of random search \n",
    "\n",
    "param_grid = {\n",
    "    'max_depth': [4,8,10],\n",
    "    'min_samples_leaf': range(100, 300, 100),\n",
    "    'min_samples_split': range(200, 500, 100),\n",
    "    'n_estimators': [500,700], \n",
    "    'max_features': [10,20,25]\n",
    "}\n",
    "# Create a based model\n",
    "rf = RandomForestClassifier()\n",
    "# Instantiate the grid search model\n",
    "grid_search = GridSearchCV(estimator = rf, param_grid = param_grid, \n",
    "                          cv = 3, n_jobs = -1,verbose = 1)"
   ]
  },
  {
   "cell_type": "code",
   "execution_count": 195,
   "metadata": {},
   "outputs": [],
   "source": [
    "from sklearn.ensemble import RandomForestClassifier\n",
    "from sklearn import metrics\n",
    "X_train, X_test, y_train, y_test = train_test_split(X, y, test_size=0.2, random_state=101)\n",
    "\n",
    "# Use the value of hyperparameters obtained above\n",
    "model_rf = RandomForestClassifier(bootstrap=True,\n",
    "                                  max_depth=7,\n",
    "                                  min_samples_leaf=100, \n",
    "                                  min_samples_split=200,\n",
    "                                  n_estimators=1000 ,\n",
    "                                  oob_score = True, n_jobs = -1,\n",
    "                                  random_state =50,\n",
    "                                  max_features = 15,\n",
    "                                  max_leaf_nodes = 30)\n",
    "model_rf.fit(X_train, y_train)\n",
    "\n",
    "# Make predictions\n",
    "prediction_test = model_rf.predict(X_test)"
   ]
  },
  {
   "cell_type": "code",
   "execution_count": 196,
   "metadata": {},
   "outputs": [
    {
     "name": "stdout",
     "output_type": "stream",
     "text": [
      "              precision    recall  f1-score   support\n",
      "\n",
      "           0       0.95      0.98      0.97      5493\n",
      "           1       0.72      0.43      0.54       508\n",
      "\n",
      "    accuracy                           0.94      6001\n",
      "   macro avg       0.83      0.71      0.75      6001\n",
      "weighted avg       0.93      0.94      0.93      6001\n",
      "\n",
      "[[5408   85]\n",
      " [ 289  219]]\n"
     ]
    }
   ],
   "source": [
    "# evaluation metrics\n",
    "from sklearn.metrics import classification_report,confusion_matrix\n",
    "print(classification_report(y_test,prediction_test))\n",
    "print(confusion_matrix(y_test,prediction_test))"
   ]
  },
  {
   "cell_type": "code",
   "execution_count": 197,
   "metadata": {},
   "outputs": [
    {
     "name": "stdout",
     "output_type": "stream",
     "text": [
      "Accuracy Score for Random Forest Final Model : 0.9376770538243626\n"
     ]
    }
   ],
   "source": [
    "# accuracy score\n",
    "print ('Accuracy Score for Random Forest Final Model :',metrics.accuracy_score(y_test, prediction_test))"
   ]
  },
  {
   "cell_type": "markdown",
   "metadata": {},
   "source": [
    "## Observations from Random Forest:\n",
    "1. Model with above given values with hyperparameters gives 93.7% accuracy"
   ]
  },
  {
   "cell_type": "markdown",
   "metadata": {},
   "source": [
    "# Results:\n",
    "\n",
    "## Logistic Regression:\n",
    "### 1. Accuracy = 82.2% with probability cutoff 0.1\n",
    "### 2. Accuracy = 92.7% with probability cutoff 0.3\n",
    "\n",
    "## Random Forest:\n",
    "### 1. Accuracy with hyperparameter tuning = 93.7% "
   ]
  },
  {
   "cell_type": "code",
   "execution_count": null,
   "metadata": {},
   "outputs": [],
   "source": []
  }
 ],
 "metadata": {
  "kernelspec": {
   "display_name": "Python 3",
   "language": "python",
   "name": "python3"
  },
  "language_info": {
   "codemirror_mode": {
    "name": "ipython",
    "version": 3
   },
   "file_extension": ".py",
   "mimetype": "text/x-python",
   "name": "python",
   "nbconvert_exporter": "python",
   "pygments_lexer": "ipython3",
   "version": "3.7.3"
  }
 },
 "nbformat": 4,
 "nbformat_minor": 2
}
